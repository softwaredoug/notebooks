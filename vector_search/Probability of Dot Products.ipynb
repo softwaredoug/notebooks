{
 "cells": [
  {
   "cell_type": "markdown",
   "id": "79be9ac3-e30e-4fc1-9f91-46e4c02e1bb9",
   "metadata": {
    "tags": []
   },
   "source": [
    "## Probability of two n-dimensional vectors\n",
    "\n",
    "We know that two n-dimensional vectors are [expected to be orthoginal](https://softwaredoug.com/blog/2022/12/26/surpries-at-hi-dimensions-orthoginality.html). \n",
    "\n",
    "But it can be useful to know when we draw a dot product between two vectors, how 'special' is that? What's the probability of that happening by chance?\n",
    "\n",
    "For example two extremely similar (not orthoginal) vectors would be extremely rare. Whereas orthoginality would be exceptionally common. We have an intuition of why from the above blog post, but can we quantify it?\n",
    "\n",
    "| Dot Product | Expected Prob |\n",
    "| ----------- | ------------- |\n",
    "| > 0.9       | Very rare     |\n",
    "| > 0.05      | Very common   |\n",
    "\n",
    "\n",
    "It turns out yes! We can do this by computing the 'cap' area of the sphere compared to the overall area of the sphere. Obviously the 'polar cap' area is much smaller than the 'cap' formed by a much larger angle. As shown below\n",
    "\n",
    "![](similar_cap.svg )\n",
    "\n",
    "![](dissimilar_cap.svg)\n",
    "\n",
    "\n",
    "To compute the probability, we just need to compute the ratio of [the vector to the area of the whole hypersphere](https://docsdrive.com/pdfs/ansinet/ajms/0000/22275-22275.pdf) see also [this question](https://math.stackexchange.com/questions/374022/probability-that-random-vectors-have-a-certain-dot-product)\n",
    "\n",
    "### N-Sphere area\n",
    "\n",
    "First we need to compute the area of an n-dimensional sphere, given by the following. We can ignore r because we're dealing with unit spheres.\n",
    "\n",
    "Here Γ is the [gamma function](https://docs.scipy.org/doc/scipy/reference/generated/scipy.special.gamma.html).\n",
    "\n",
    "![n sphere area](n_sphere_area.png)"
   ]
  },
  {
   "cell_type": "code",
   "execution_count": 3,
   "id": "3e5614f9-3429-4558-8b0d-1a0bde4cc4b6",
   "metadata": {
    "tags": []
   },
   "outputs": [
    {
     "data": {
      "text/plain": [
       "12.566370614359174"
      ]
     },
     "execution_count": 3,
     "metadata": {},
     "output_type": "execute_result"
    }
   ],
   "source": [
    "from scipy.special import gamma\n",
    "from math import pi\n",
    "\n",
    "def n_sphere_area(n: int):\n",
    "    numerator = 2 * (pi ** (n / 2))\n",
    "    denominator = gamma(n/2)\n",
    "    return numerator / denominator\n",
    "\n",
    "n_sphere_area(3)"
   ]
  },
  {
   "cell_type": "markdown",
   "id": "69a87430-4e13-4765-a5b2-d708bb48d952",
   "metadata": {},
   "source": [
    "## Cap area, dimensions N given angle theta\n",
    "\n",
    "Now to compute the area of a cap, which is:\n",
    "\n",
    "![area of cap given theta](cap_area.png)\n",
    "\n",
    "Here I is the [regularized incomplete beta function](https://docs.scipy.org/doc/scipy/reference/generated/scipy.special.betainc.html) and An is the area of the N-sphere we just defined"
   ]
  },
  {
   "cell_type": "code",
   "execution_count": 9,
   "id": "f4589a3b-b8cb-4c1d-927d-5f621a0b5d9d",
   "metadata": {
    "tags": []
   },
   "outputs": [
    {
     "data": {
      "text/plain": [
       "0.5"
      ]
     },
     "execution_count": 9,
     "metadata": {},
     "output_type": "execute_result"
    }
   ],
   "source": [
    "from scipy.special import betainc\n",
    "from math import sin\n",
    "\n",
    "def n_cap_area(n: int, theta: float):\n",
    "    sphere_area = 0.5 * n_sphere_area(n)\n",
    "    sin_squared = sin(theta) ** 2\n",
    "    return sphere_area * betainc((n-1)/2, 0.5, sin_squared)\n",
    "\n",
    "# Ninety degrees should be half the sphere\n",
    "assert n_cap_area(3, pi / 2) / n_sphere_area(3) == 0.5  # With caution for floating point error\n",
    "\n",
    "n_cap_area(3, pi / 2) / n_sphere_area(3)"
   ]
  },
  {
   "cell_type": "markdown",
   "id": "15560460-9823-42e8-aca0-5cc60c3e9b35",
   "metadata": {},
   "source": [
    "## Dot product area\n",
    "\n",
    "Now we just need to go from what we have (dot products) to angles. We do this by taking the arccos of the dotproduct to get an angle. As the dot product is given by:\n",
    "\n",
    "```\n",
    "u . v = |u| |v| cos(theta)\n",
    "```\n",
    "\n",
    "Since these are unit vectors, we can ignore `|u|` and `|v|`"
   ]
  },
  {
   "cell_type": "code",
   "execution_count": 10,
   "id": "8038039b-a175-4fec-bd6f-e5c0a05d1572",
   "metadata": {
    "tags": []
   },
   "outputs": [
    {
     "data": {
      "text/plain": [
       "6.283185307179587"
      ]
     },
     "execution_count": 10,
     "metadata": {},
     "output_type": "execute_result"
    }
   ],
   "source": [
    "from math import acos\n",
    "\n",
    "def dot_prod_area(n: int, dot_product: float):\n",
    "    theta = acos(dot_product)\n",
    "    return n_cap_area(n, theta)\n",
    "\n",
    "assert dot_prod_area(3, 0.0) == n_cap_area(3, pi / 2)\n",
    "dot_prod_area(3, 0.0)"
   ]
  },
  {
   "cell_type": "markdown",
   "id": "182c7d9e-7da7-45f9-bbaa-2893e57c9050",
   "metadata": {
    "tags": []
   },
   "source": [
    "## Dot product probability\n",
    "\n",
    "Probability a dot product is `dot_product` or above is the ratio of dot_prod_area to the area of the n-sphere:"
   ]
  },
  {
   "cell_type": "code",
   "execution_count": 12,
   "id": "ac61b959-db50-4203-8900-aff691e6718f",
   "metadata": {
    "tags": []
   },
   "outputs": [
    {
     "data": {
      "text/plain": [
       "0.3749999999999998"
      ]
     },
     "execution_count": 12,
     "metadata": {},
     "output_type": "execute_result"
    }
   ],
   "source": [
    "def dot_prod_probability(n: int, dot_product: float):\n",
    "    return dot_prod_area(n, dot_product) / n_sphere_area(n)\n",
    "\n",
    "dot_prod_probability(3, 0.25)"
   ]
  },
  {
   "cell_type": "code",
   "execution_count": 13,
   "id": "a1af011a-2547-4f58-973d-0150eec103e8",
   "metadata": {
    "tags": []
   },
   "outputs": [
    {
     "data": {
      "text/plain": [
       "0.5"
      ]
     },
     "execution_count": 13,
     "metadata": {},
     "output_type": "execute_result"
    }
   ],
   "source": [
    "dot_prod_probability(3, 0.0)"
   ]
  },
  {
   "cell_type": "code",
   "execution_count": 15,
   "id": "ab847ada-564e-4700-82e8-b57fd62b4475",
   "metadata": {
    "tags": []
   },
   "outputs": [
    {
     "data": {
      "text/plain": [
       "0.049999999999999996"
      ]
     },
     "execution_count": 15,
     "metadata": {},
     "output_type": "execute_result"
    }
   ],
   "source": [
    "dot_prod_probability(3, 0.9)"
   ]
  },
  {
   "cell_type": "markdown",
   "id": "4cbaa001-97b2-4c81-8555-6673f96f8d6c",
   "metadata": {},
   "source": [
    "## Fix for negative angles\n",
    "\n",
    "We actually need to tweak this for negative dot products, at it appears to give the area for the lower cap.\n",
    "\n",
    "If we want *at or above* `dot_product` we need to account for this"
   ]
  },
  {
   "cell_type": "code",
   "execution_count": 29,
   "id": "93444760-efef-4001-b4c8-356b88ae8f4d",
   "metadata": {
    "tags": []
   },
   "outputs": [
    {
     "data": {
      "text/plain": [
       "0.44999999999999996"
      ]
     },
     "execution_count": 29,
     "metadata": {},
     "output_type": "execute_result"
    }
   ],
   "source": [
    "dot_prod_probability(3, -0.1)"
   ]
  },
  {
   "cell_type": "code",
   "execution_count": 31,
   "id": "e1e35018-5996-4a82-99a7-9cfa42f355af",
   "metadata": {
    "tags": []
   },
   "outputs": [],
   "source": [
    "def dot_prod_probability(n: int, dot_product: float):\n",
    "    if dot_product < 0:\n",
    "        return 1.0 - dot_prod_area(n, dot_product) / n_sphere_area(n)\n",
    "    else:\n",
    "        return dot_prod_area(n, dot_product) / n_sphere_area(n)"
   ]
  },
  {
   "cell_type": "code",
   "execution_count": 34,
   "id": "c41aa42e-0620-4348-b88d-a2c632bc0699",
   "metadata": {
    "tags": []
   },
   "outputs": [
    {
     "data": {
      "text/plain": [
       "0.44999999999999996"
      ]
     },
     "execution_count": 34,
     "metadata": {},
     "output_type": "execute_result"
    }
   ],
   "source": [
    "dot_prod_probability(3, 0.1)"
   ]
  },
  {
   "cell_type": "code",
   "execution_count": 37,
   "id": "62712e6d-87ff-4c7c-9f4e-d707ee839dc9",
   "metadata": {
    "tags": []
   },
   "outputs": [
    {
     "data": {
      "text/plain": [
       "0.55"
      ]
     },
     "execution_count": 37,
     "metadata": {},
     "output_type": "execute_result"
    }
   ],
   "source": [
    "dot_prod_probability(3, -0.1)"
   ]
  },
  {
   "cell_type": "code",
   "execution_count": 38,
   "id": "e8741f9f-1cae-4e7b-9a9b-d82019063a87",
   "metadata": {
    "tags": []
   },
   "outputs": [
    {
     "data": {
      "text/plain": [
       "0.7000000000000002"
      ]
     },
     "execution_count": 38,
     "metadata": {},
     "output_type": "execute_result"
    }
   ],
   "source": [
    "dot_prod_probability(3, -0.4)"
   ]
  },
  {
   "cell_type": "code",
   "execution_count": 39,
   "id": "072d1559-eecb-4594-81f2-0fa964954f5e",
   "metadata": {
    "tags": []
   },
   "outputs": [
    {
     "data": {
      "text/plain": [
       "0.9"
      ]
     },
     "execution_count": 39,
     "metadata": {},
     "output_type": "execute_result"
    }
   ],
   "source": [
    "dot_prod_probability(3, -0.8)"
   ]
  },
  {
   "cell_type": "code",
   "execution_count": null,
   "id": "27798d36-0732-453b-887e-2fbae855a8fc",
   "metadata": {},
   "outputs": [],
   "source": []
  }
 ],
 "metadata": {
  "kernelspec": {
   "display_name": "Python 3 (ipykernel)",
   "language": "python",
   "name": "python3"
  },
  "language_info": {
   "codemirror_mode": {
    "name": "ipython",
    "version": 3
   },
   "file_extension": ".py",
   "mimetype": "text/x-python",
   "name": "python",
   "nbconvert_exporter": "python",
   "pygments_lexer": "ipython3",
   "version": "3.10.9"
  }
 },
 "nbformat": 4,
 "nbformat_minor": 5
}
