{
 "cells": [
  {
   "cell_type": "markdown",
   "id": "2610ef67-16d9-4562-bf7f-520dd890c98e",
   "metadata": {},
   "source": [
    "## Probability of two vectors sharing reference points\n",
    "\n",
    "For some context - see earlier [Probability of Dot Products](./vector_search/Probability%20of%20sharing%20a%20reference%20point.ipynb) and the observation that two randomly chosen vectors [tend to be orthoginal as dimensions increase](https://softwaredoug.com/blog/2022/12/26/surpries-at-hi-dimensions-orthoginality.html).\n",
    "\n",
    "### Similar items with many shared similarities\n",
    "\n",
    "In n-dimensional vector space, let's say we have a reference unit vector `A`. We know two unit vectors, `u` and `v`, similarity (dot product) with A. What can we say about the similarity between `u` and `v`?\n",
    "\n",
    "We know intuitively if `u . A` is high (say > 0.9) AND `v . A` is high, then the probability of `u` and `v` being similar is also high. However even if they're only moderately similar `u . A` ~0.3 and `u . B` ~0.3 its much less likely they would have much in common.\n",
    "\n",
    "We have two events, and we essentially need to know the probability distribution of `u . v` given we know from the previous notebook `P(u . A)` and `P(v . A)` we want to know `P(u . v)`. If `P(u . v)` is high, u and v are probably similar. \n",
    "\n",
    "The angle between A and v mean that v falls on some latitude around A. Similarly with u. So really the question is - given two latitudes - what's the distribution of all angles between the points of the angles?"
   ]
  },
  {
   "cell_type": "code",
   "execution_count": null,
   "id": "1ca015bf-50b4-4ea5-8e5d-d8534fd9161a",
   "metadata": {},
   "outputs": [],
   "source": []
  }
 ],
 "metadata": {
  "kernelspec": {
   "display_name": "Python 3 (ipykernel)",
   "language": "python",
   "name": "python3"
  },
  "language_info": {
   "codemirror_mode": {
    "name": "ipython",
    "version": 3
   },
   "file_extension": ".py",
   "mimetype": "text/x-python",
   "name": "python",
   "nbconvert_exporter": "python",
   "pygments_lexer": "ipython3",
   "version": "3.10.9"
  }
 },
 "nbformat": 4,
 "nbformat_minor": 5
}
