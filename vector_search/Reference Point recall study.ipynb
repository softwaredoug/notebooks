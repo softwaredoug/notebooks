{
 "cells": [
  {
   "cell_type": "markdown",
   "id": "21ff267e-a44b-485c-a7ae-e73e3b3947b2",
   "metadata": {},
   "source": [
    "From shared reference point [proof of concept](http://localhost:8888/lab/tree/vector_search/Shared%20Reference%20Proof%20of%20Concept.ipynb) we saw we got OK'ish recall using a few thousand reference points and querying with 100. We would like to\n",
    "\n",
    "1. Increase number of reference points\n",
    "2. Decrease the number needed at query time\n",
    "\n",
    "In a system that uses this, this setup would increase recall with the least impact to performance.\n",
    "\n",
    "This notebook performs a grid search over the possible values.\n",
    "\n",
    "## Load sentences\n",
    "\n",
    "Reminder we use minilm encoded sentences from wikipedia, sampled down by 50% due to memory constraints."
   ]
  },
  {
   "cell_type": "code",
   "execution_count": null,
   "id": "2c057a40-28d4-44fc-a6a7-453514e8a119",
   "metadata": {
    "tags": []
   },
   "outputs": [],
   "source": [
    "import numpy as np\n",
    "\n",
    "def load_sentences():\n",
    "    # From\n",
    "    # https://www.kaggle.com/datasets/softwaredoug/wikipedia-sentences-all-minilm-l6-v2\n",
    "    with open('wikisent2_all.npz', 'rb') as f:\n",
    "        wiki_vects = np.load(f)\n",
    "        wiki_vects = wiki_vects['arr_0']\n",
    "        # vects = np.stack(vects)\n",
    "        all_normed = (np.linalg.norm(wiki_vects, axis=1) > 0.99) & (np.linalg.norm(wiki_vects, axis=1) < 1.01)\n",
    "        assert all_normed.all(), \"Something is wrong - vectors are not normalized!\"\n",
    "\n",
    "    with open('wikisent2.txt', 'rt') as f:\n",
    "        wiki_sentences = f.readlines()\n",
    "\n",
    "    return wiki_sentences, wiki_vects\n",
    "\n",
    "sentences, vects = load_sentences()\n",
    "del sentences # dont really care about the output here\n",
    "\n",
    "# Shrink by 50% for the RAM savings\n",
    "# sentences = sentences[::2]\n",
    "vects = vects[::2]\n",
    "vects.shape"
   ]
  },
  {
   "cell_type": "markdown",
   "id": "c1297667-7536-4aa2-b4a0-7176f6becbd3",
   "metadata": {},
   "source": [
    "## Build index\n",
    "\n",
    "As per the proof of concept:\n",
    "\n",
    "- Function to generate random vectors\n",
    "- Build index of reference points with dot products back to main vectors"
   ]
  },
  {
   "cell_type": "code",
   "execution_count": null,
   "id": "3a0311d2-f207-4d98-bc5e-497c700732d9",
   "metadata": {
    "tags": []
   },
   "outputs": [],
   "source": [
    "def random_vector(num_dims=768):\n",
    "    \"\"\" Sample a unit vector from a sphere in N dimensions.\n",
    "    It's actually important this is gaussian\n",
    "    https://stackoverflow.com/questions/59954810/generate-random-points-on-10-dimensional-unit-sphere\n",
    "    IE Don't do this\n",
    "        projection = np.random.random_sample(size=num_dims)\n",
    "        projection /= np.linalg.norm(projection)\n",
    "    \"\"\"\n",
    "    projection = np.random.normal(size=num_dims)\n",
    "    projection /= np.linalg.norm(projection)\n",
    "    return projection\n",
    "\n",
    "random_vector(num_dims=vects.shape[1])"
   ]
  },
  {
   "cell_type": "code",
   "execution_count": null,
   "id": "1ace0a6e-f0cd-4a3a-8e1a-81b5fbba77f9",
   "metadata": {
    "tags": []
   },
   "outputs": [],
   "source": [
    "def build_index(vects, num_refs=1000, refs_factory=random_vector):\n",
    "\n",
    "    refs = np.zeros((num_refs, vects.shape[1]), dtype=np.float32)\n",
    "\n",
    "    for ref_ord in range(0, num_refs):\n",
    "        refs[ref_ord] = refs_factory(num_dims=vects.shape[1])\n",
    "    # Memory gets sucked up here :)\n",
    "    index = np.dot(vects, refs.T)\n",
    "\n",
    "    return refs, index"
   ]
  },
  {
   "cell_type": "markdown",
   "id": "53a4db03-f94b-4111-b7df-254bd152556c",
   "metadata": {},
   "source": [
    "## Search ground truth\n",
    "\n",
    "Here's the ground truth for the search, using MiniLM (how the vectors are encoded)"
   ]
  },
  {
   "cell_type": "code",
   "execution_count": 8,
   "id": "3a594249-d77b-4105-9302-3e0f39e2796e",
   "metadata": {
    "tags": []
   },
   "outputs": [
    {
     "name": "stdout",
     "output_type": "stream",
     "text": [
      "1996387 0.700519\n",
      "1997224 0.6153624\n",
      "1418816 0.61314523\n",
      "1887627 0.5563892\n",
      "775918 0.54064065\n",
      "1393341 0.5362675\n",
      "611431 0.5288173\n",
      "3447108 0.52027595\n",
      "2991842 0.51856375\n",
      "3120137 0.5133202\n"
     ]
    }
   ],
   "source": [
    "from sentence_transformers import SentenceTransformer\n",
    "model = SentenceTransformer('all-MiniLM-L6-v2')\n",
    "\n",
    "query = \"mary had a little lamb\"\n",
    "\n",
    "def search_ground_truth(vects, query, at=10):\n",
    "    query_vector = model.encode(query)\n",
    "    nn = np.dot(vects, query_vector)\n",
    "    top_n = np.argpartition(-nn, at)[:at]\n",
    "    top_n = top_n[nn[top_n].argsort()[::-1]]\n",
    "    return sorted(zip(top_n, nn[top_n]),\n",
    "                  key=lambda scored: scored[1],\n",
    "                  reverse=True)\n",
    "\n",
    "gt_ords = set()\n",
    "for vect_ord, score in search_ground_truth(vects, query):\n",
    "    gt_ords.add(vect_ord)\n",
    "    print(vect_ord, score)"
   ]
  },
  {
   "cell_type": "markdown",
   "id": "469c193d-2f6e-4dbe-9702-471a49b73f15",
   "metadata": {},
   "source": [
    "## (Inefficient) search function\n",
    "\n",
    "We use the most accurate (though most inefficient) form of the reference point function that gets every vectors dot product to the reference points."
   ]
  },
  {
   "cell_type": "code",
   "execution_count": 24,
   "id": "a072083d-2db3-4baa-b3ed-f71864c8b2ce",
   "metadata": {
    "tags": []
   },
   "outputs": [
    {
     "data": {
      "text/plain": [
       "[(2179728, 0.07834275),\n",
       " (498610, 0.06783752),\n",
       " (426544, 0.06624307),\n",
       " (1996890, 0.0654427),\n",
       " (1428519, 0.06461048),\n",
       " (1012713, 0.06454661),\n",
       " (3883316, 0.06427097),\n",
       " (3492758, 0.064007975),\n",
       " (901803, 0.063778706),\n",
       " (2938803, 0.06312483)]"
      ]
     },
     "execution_count": 24,
     "metadata": {},
     "output_type": "execute_result"
    }
   ],
   "source": [
    "from project import project\n",
    "import math\n",
    "\n",
    "\n",
    "def best_refs(refs, query_vector, num_refs=200):\n",
    "    dotted = np.dot(refs, query_vector)\n",
    "    best_ref_ords = np.argsort(-dotted)[:num_refs]\n",
    "    ref_ords_span = []\n",
    "    sins = []\n",
    "    \n",
    "    # Compute sin(theta) where theta is the angle between the span of the vectors\n",
    "    # inserted thusfar, so we can know hhow much added information this contains\n",
    "    # see\n",
    "    # https://softwaredoug.com/blog/2023/03/12/reconstruct-dot-product-from-other-dot-products.html\n",
    "    # Generally when vectors are near orthogonal, the sins are near 1.0, and it doesn't matter.\n",
    "    # but it DOES matter if the ref vectors are NOT random\n",
    "    for idx, ref_ord in enumerate(best_ref_ords):\n",
    "        if len(ref_ords_span) == 0:\n",
    "            sins.append(1.0)\n",
    "        else:\n",
    "            proj = project(refs[ref_ord], refs[ref_ords_span])\n",
    "            dot = np.dot(proj, refs[ref_ord])\n",
    "            if dot > 1.0 and dot < 1.0001:\n",
    "                dot = 1.0\n",
    "            if dot < 0.0 and dot > -0.0001:\n",
    "                dot = 0.0\n",
    "            assert (dot <= 1.0 and dot >= 0.0), f\"Dot product out of range - {dot}\"\n",
    "            angle = math.acos(dot)\n",
    "            sin_theta = math.sin(angle)\n",
    "            sins.append(sin_theta)\n",
    "        ref_ords_span.append(ref_ord)\n",
    "        \n",
    "    return best_ref_ords, dotted[best_ref_ords], sins\n",
    "\n",
    "def search(index, refs, query, num_refs=200, use_sins=True, debug=False):\n",
    "\n",
    "    query_vector = model.encode(query)    \n",
    "    best_ref_ords, dotted, sins = best_refs(refs, query_vector, num_refs=num_refs)\n",
    "    # print(dotted, best_ref_ords, sins)\n",
    "    \n",
    "    every_dotted = index[:, best_ref_ords] * dotted\n",
    "    if use_sins:\n",
    "        every_dotted *= sins\n",
    "        \n",
    "    vects_scored = np.sum(every_dotted, axis=1)\n",
    "        \n",
    "    best_vect_ords = np.argsort(-vects_scored)[:10]\n",
    "    scored = vects_scored[best_vect_ords]\n",
    "    if debug:\n",
    "        return list(zip(best_vect_ords, scored)), best_ref_ords, dotted, sins\n",
    "    else:\n",
    "        return list(zip(best_vect_ords, scored))\n",
    "\n",
    "refs, index = build_index(vects, num_refs=100)\n",
    "search(index, refs, query=\"mary had a litle lamb\", num_refs=10)"
   ]
  },
  {
   "cell_type": "markdown",
   "id": "a2be376b-9400-45e6-ac3b-d704f17e3e60",
   "metadata": {},
   "source": [
    "## Search over sample of queries\n",
    "\n",
    "Using a handful of queries lets do a search varying:\n",
    "\n",
    "* `num_query_refs` - the query time refs to score against the query's vector\n",
    "* `num_index_refs` - the number of index time refs to use when constructing the index\n",
    "\n",
    "### Generate ground truths\n",
    "\n",
    "Get a ground truth for each test query to let us compute recall against"
   ]
  },
  {
   "cell_type": "code",
   "execution_count": 10,
   "id": "9c40e077-220e-4fba-8505-99d1cb60335b",
   "metadata": {
    "tags": []
   },
   "outputs": [],
   "source": [
    "from collections import defaultdict\n",
    "\n",
    "test_queries = [\"what is a cat\", \"where is spain\", \"what is the capital of spain\", \n",
    "\"who framed roger rabbit\", \"free willy\", \"bed bath and beyond\", \"hats and stuff\", \"bed bath beyond\",\n",
    "\"do you even paginate bro?\", \"mary had a little lamb\"]\n",
    "\n",
    "ground_truths = defaultdict(set)\n",
    "for query in test_queries:\n",
    "    for vect_ord, score in search_ground_truth(vects, query):\n",
    "        ground_truths[query].add(vect_ord)\n"
   ]
  },
  {
   "cell_type": "markdown",
   "id": "ee2363aa-59b5-45c9-9638-74ea0437af78",
   "metadata": {},
   "source": [
    "## Grid search - observing refs, but not index size, matters\n",
    "\n",
    "It seems index size does not matter beyond a point (~500). This seems to point at finding 'better' vectors does not matter in terms of more efficiently reconstructing the dot product. Further the 250-500 range of starting to matter eerily corresponds to the dimensionality of 384."
   ]
  },
  {
   "cell_type": "code",
   "execution_count": 12,
   "id": "3d7e23ac-a3df-40a9-a632-1c51beeb1b4c",
   "metadata": {
    "tags": []
   },
   "outputs": [
    {
     "name": "stdout",
     "output_type": "stream",
     "text": [
      "1500 10 True 0.32\n",
      "1500 10 False 0.32\n",
      "1500 20 True 0.48\n",
      "1500 20 False 0.48\n",
      "1500 30 True 0.5\n",
      "1500 30 False 0.5\n",
      "1500 100 True 0.6\n",
      "1500 100 False 0.61\n",
      "1500 200 True 0.65\n",
      "1500 200 False 0.65\n",
      "1250 10 True 0.23\n",
      "1250 10 False 0.23\n",
      "1250 20 True 0.39\n",
      "1250 20 False 0.39\n",
      "1250 30 True 0.47\n",
      "1250 30 False 0.45999999999999996\n",
      "1250 100 True 0.62\n",
      "1250 100 False 0.61\n",
      "1250 200 True 0.7\n",
      "1250 200 False 0.68\n",
      "1000 10 True 0.19\n",
      "1000 10 False 0.19\n",
      "1000 20 True 0.36\n",
      "1000 20 False 0.36\n",
      "1000 30 True 0.44\n",
      "1000 30 False 0.44\n",
      "1000 100 True 0.61\n",
      "1000 100 False 0.6\n",
      "1000 200 True 0.68\n",
      "1000 200 False 0.63\n",
      "750 10 True 0.21\n",
      "750 10 False 0.21\n",
      "750 20 True 0.31\n",
      "750 20 False 0.31\n",
      "750 30 True 0.33999999999999997\n",
      "750 30 False 0.33999999999999997\n",
      "750 100 True 0.56\n",
      "750 100 False 0.57\n",
      "750 200 True 0.64\n",
      "750 200 False 0.66\n",
      "500 10 True 0.19\n",
      "500 10 False 0.19\n",
      "500 20 True 0.35\n",
      "500 20 False 0.35\n",
      "500 30 True 0.42\n",
      "500 30 False 0.42\n",
      "500 100 True 0.59\n",
      "500 100 False 0.6\n",
      "500 200 True 0.57\n",
      "500 200 False 0.57\n",
      "250 10 True 0.16\n",
      "250 10 False 0.16\n",
      "250 20 True 0.21\n",
      "250 20 False 0.21\n",
      "250 30 True 0.27\n",
      "250 30 False 0.27\n",
      "250 100 True 0.42\n",
      "250 100 False 0.42\n",
      "250 200 True 0.47\n",
      "250 200 False 0.46\n"
     ]
    },
    {
     "data": {
      "text/html": [
       "<div>\n",
       "<style scoped>\n",
       "    .dataframe tbody tr th:only-of-type {\n",
       "        vertical-align: middle;\n",
       "    }\n",
       "\n",
       "    .dataframe tbody tr th {\n",
       "        vertical-align: top;\n",
       "    }\n",
       "\n",
       "    .dataframe thead th {\n",
       "        text-align: right;\n",
       "    }\n",
       "</style>\n",
       "<table border=\"1\" class=\"dataframe\">\n",
       "  <thead>\n",
       "    <tr style=\"text-align: right;\">\n",
       "      <th></th>\n",
       "      <th>num_index_refs</th>\n",
       "      <th>num_query_refs</th>\n",
       "      <th>use_sins</th>\n",
       "      <th>mean</th>\n",
       "      <th>max</th>\n",
       "      <th>min</th>\n",
       "    </tr>\n",
       "  </thead>\n",
       "  <tbody>\n",
       "    <tr>\n",
       "      <th>0</th>\n",
       "      <td>1500</td>\n",
       "      <td>10</td>\n",
       "      <td>True</td>\n",
       "      <td>0.32</td>\n",
       "      <td>0.7</td>\n",
       "      <td>0.0</td>\n",
       "    </tr>\n",
       "    <tr>\n",
       "      <th>1</th>\n",
       "      <td>1500</td>\n",
       "      <td>10</td>\n",
       "      <td>False</td>\n",
       "      <td>0.32</td>\n",
       "      <td>0.7</td>\n",
       "      <td>0.0</td>\n",
       "    </tr>\n",
       "    <tr>\n",
       "      <th>2</th>\n",
       "      <td>1500</td>\n",
       "      <td>20</td>\n",
       "      <td>True</td>\n",
       "      <td>0.48</td>\n",
       "      <td>1.0</td>\n",
       "      <td>0.2</td>\n",
       "    </tr>\n",
       "    <tr>\n",
       "      <th>3</th>\n",
       "      <td>1500</td>\n",
       "      <td>20</td>\n",
       "      <td>False</td>\n",
       "      <td>0.48</td>\n",
       "      <td>1.0</td>\n",
       "      <td>0.2</td>\n",
       "    </tr>\n",
       "    <tr>\n",
       "      <th>4</th>\n",
       "      <td>1500</td>\n",
       "      <td>30</td>\n",
       "      <td>True</td>\n",
       "      <td>0.50</td>\n",
       "      <td>0.9</td>\n",
       "      <td>0.2</td>\n",
       "    </tr>\n",
       "    <tr>\n",
       "      <th>5</th>\n",
       "      <td>1500</td>\n",
       "      <td>30</td>\n",
       "      <td>False</td>\n",
       "      <td>0.50</td>\n",
       "      <td>0.9</td>\n",
       "      <td>0.2</td>\n",
       "    </tr>\n",
       "    <tr>\n",
       "      <th>6</th>\n",
       "      <td>1500</td>\n",
       "      <td>100</td>\n",
       "      <td>True</td>\n",
       "      <td>0.60</td>\n",
       "      <td>1.0</td>\n",
       "      <td>0.3</td>\n",
       "    </tr>\n",
       "    <tr>\n",
       "      <th>7</th>\n",
       "      <td>1500</td>\n",
       "      <td>100</td>\n",
       "      <td>False</td>\n",
       "      <td>0.61</td>\n",
       "      <td>1.0</td>\n",
       "      <td>0.3</td>\n",
       "    </tr>\n",
       "    <tr>\n",
       "      <th>8</th>\n",
       "      <td>1500</td>\n",
       "      <td>200</td>\n",
       "      <td>True</td>\n",
       "      <td>0.65</td>\n",
       "      <td>1.0</td>\n",
       "      <td>0.2</td>\n",
       "    </tr>\n",
       "    <tr>\n",
       "      <th>9</th>\n",
       "      <td>1500</td>\n",
       "      <td>200</td>\n",
       "      <td>False</td>\n",
       "      <td>0.65</td>\n",
       "      <td>1.0</td>\n",
       "      <td>0.2</td>\n",
       "    </tr>\n",
       "    <tr>\n",
       "      <th>10</th>\n",
       "      <td>1250</td>\n",
       "      <td>10</td>\n",
       "      <td>True</td>\n",
       "      <td>0.23</td>\n",
       "      <td>0.6</td>\n",
       "      <td>0.0</td>\n",
       "    </tr>\n",
       "    <tr>\n",
       "      <th>11</th>\n",
       "      <td>1250</td>\n",
       "      <td>10</td>\n",
       "      <td>False</td>\n",
       "      <td>0.23</td>\n",
       "      <td>0.6</td>\n",
       "      <td>0.0</td>\n",
       "    </tr>\n",
       "    <tr>\n",
       "      <th>12</th>\n",
       "      <td>1250</td>\n",
       "      <td>20</td>\n",
       "      <td>True</td>\n",
       "      <td>0.39</td>\n",
       "      <td>0.7</td>\n",
       "      <td>0.0</td>\n",
       "    </tr>\n",
       "    <tr>\n",
       "      <th>13</th>\n",
       "      <td>1250</td>\n",
       "      <td>20</td>\n",
       "      <td>False</td>\n",
       "      <td>0.39</td>\n",
       "      <td>0.7</td>\n",
       "      <td>0.0</td>\n",
       "    </tr>\n",
       "    <tr>\n",
       "      <th>14</th>\n",
       "      <td>1250</td>\n",
       "      <td>30</td>\n",
       "      <td>True</td>\n",
       "      <td>0.47</td>\n",
       "      <td>0.7</td>\n",
       "      <td>0.2</td>\n",
       "    </tr>\n",
       "    <tr>\n",
       "      <th>15</th>\n",
       "      <td>1250</td>\n",
       "      <td>30</td>\n",
       "      <td>False</td>\n",
       "      <td>0.46</td>\n",
       "      <td>0.7</td>\n",
       "      <td>0.2</td>\n",
       "    </tr>\n",
       "    <tr>\n",
       "      <th>16</th>\n",
       "      <td>1250</td>\n",
       "      <td>100</td>\n",
       "      <td>True</td>\n",
       "      <td>0.62</td>\n",
       "      <td>0.9</td>\n",
       "      <td>0.3</td>\n",
       "    </tr>\n",
       "    <tr>\n",
       "      <th>17</th>\n",
       "      <td>1250</td>\n",
       "      <td>100</td>\n",
       "      <td>False</td>\n",
       "      <td>0.61</td>\n",
       "      <td>0.9</td>\n",
       "      <td>0.3</td>\n",
       "    </tr>\n",
       "    <tr>\n",
       "      <th>18</th>\n",
       "      <td>1250</td>\n",
       "      <td>200</td>\n",
       "      <td>True</td>\n",
       "      <td>0.70</td>\n",
       "      <td>0.9</td>\n",
       "      <td>0.4</td>\n",
       "    </tr>\n",
       "    <tr>\n",
       "      <th>19</th>\n",
       "      <td>1250</td>\n",
       "      <td>200</td>\n",
       "      <td>False</td>\n",
       "      <td>0.68</td>\n",
       "      <td>0.9</td>\n",
       "      <td>0.4</td>\n",
       "    </tr>\n",
       "    <tr>\n",
       "      <th>20</th>\n",
       "      <td>1000</td>\n",
       "      <td>10</td>\n",
       "      <td>True</td>\n",
       "      <td>0.19</td>\n",
       "      <td>0.3</td>\n",
       "      <td>0.0</td>\n",
       "    </tr>\n",
       "    <tr>\n",
       "      <th>21</th>\n",
       "      <td>1000</td>\n",
       "      <td>10</td>\n",
       "      <td>False</td>\n",
       "      <td>0.19</td>\n",
       "      <td>0.3</td>\n",
       "      <td>0.0</td>\n",
       "    </tr>\n",
       "    <tr>\n",
       "      <th>22</th>\n",
       "      <td>1000</td>\n",
       "      <td>20</td>\n",
       "      <td>True</td>\n",
       "      <td>0.36</td>\n",
       "      <td>0.7</td>\n",
       "      <td>0.1</td>\n",
       "    </tr>\n",
       "    <tr>\n",
       "      <th>23</th>\n",
       "      <td>1000</td>\n",
       "      <td>20</td>\n",
       "      <td>False</td>\n",
       "      <td>0.36</td>\n",
       "      <td>0.7</td>\n",
       "      <td>0.1</td>\n",
       "    </tr>\n",
       "    <tr>\n",
       "      <th>24</th>\n",
       "      <td>1000</td>\n",
       "      <td>30</td>\n",
       "      <td>True</td>\n",
       "      <td>0.44</td>\n",
       "      <td>0.9</td>\n",
       "      <td>0.0</td>\n",
       "    </tr>\n",
       "    <tr>\n",
       "      <th>25</th>\n",
       "      <td>1000</td>\n",
       "      <td>30</td>\n",
       "      <td>False</td>\n",
       "      <td>0.44</td>\n",
       "      <td>0.9</td>\n",
       "      <td>0.0</td>\n",
       "    </tr>\n",
       "    <tr>\n",
       "      <th>26</th>\n",
       "      <td>1000</td>\n",
       "      <td>100</td>\n",
       "      <td>True</td>\n",
       "      <td>0.61</td>\n",
       "      <td>0.9</td>\n",
       "      <td>0.3</td>\n",
       "    </tr>\n",
       "    <tr>\n",
       "      <th>27</th>\n",
       "      <td>1000</td>\n",
       "      <td>100</td>\n",
       "      <td>False</td>\n",
       "      <td>0.60</td>\n",
       "      <td>0.9</td>\n",
       "      <td>0.3</td>\n",
       "    </tr>\n",
       "    <tr>\n",
       "      <th>28</th>\n",
       "      <td>1000</td>\n",
       "      <td>200</td>\n",
       "      <td>True</td>\n",
       "      <td>0.68</td>\n",
       "      <td>0.9</td>\n",
       "      <td>0.4</td>\n",
       "    </tr>\n",
       "    <tr>\n",
       "      <th>29</th>\n",
       "      <td>1000</td>\n",
       "      <td>200</td>\n",
       "      <td>False</td>\n",
       "      <td>0.63</td>\n",
       "      <td>0.9</td>\n",
       "      <td>0.4</td>\n",
       "    </tr>\n",
       "    <tr>\n",
       "      <th>30</th>\n",
       "      <td>750</td>\n",
       "      <td>10</td>\n",
       "      <td>True</td>\n",
       "      <td>0.21</td>\n",
       "      <td>0.6</td>\n",
       "      <td>0.0</td>\n",
       "    </tr>\n",
       "    <tr>\n",
       "      <th>31</th>\n",
       "      <td>750</td>\n",
       "      <td>10</td>\n",
       "      <td>False</td>\n",
       "      <td>0.21</td>\n",
       "      <td>0.6</td>\n",
       "      <td>0.0</td>\n",
       "    </tr>\n",
       "    <tr>\n",
       "      <th>32</th>\n",
       "      <td>750</td>\n",
       "      <td>20</td>\n",
       "      <td>True</td>\n",
       "      <td>0.31</td>\n",
       "      <td>0.8</td>\n",
       "      <td>0.0</td>\n",
       "    </tr>\n",
       "    <tr>\n",
       "      <th>33</th>\n",
       "      <td>750</td>\n",
       "      <td>20</td>\n",
       "      <td>False</td>\n",
       "      <td>0.31</td>\n",
       "      <td>0.8</td>\n",
       "      <td>0.0</td>\n",
       "    </tr>\n",
       "    <tr>\n",
       "      <th>34</th>\n",
       "      <td>750</td>\n",
       "      <td>30</td>\n",
       "      <td>True</td>\n",
       "      <td>0.34</td>\n",
       "      <td>0.9</td>\n",
       "      <td>0.0</td>\n",
       "    </tr>\n",
       "    <tr>\n",
       "      <th>35</th>\n",
       "      <td>750</td>\n",
       "      <td>30</td>\n",
       "      <td>False</td>\n",
       "      <td>0.34</td>\n",
       "      <td>0.9</td>\n",
       "      <td>0.0</td>\n",
       "    </tr>\n",
       "    <tr>\n",
       "      <th>36</th>\n",
       "      <td>750</td>\n",
       "      <td>100</td>\n",
       "      <td>True</td>\n",
       "      <td>0.56</td>\n",
       "      <td>0.9</td>\n",
       "      <td>0.2</td>\n",
       "    </tr>\n",
       "    <tr>\n",
       "      <th>37</th>\n",
       "      <td>750</td>\n",
       "      <td>100</td>\n",
       "      <td>False</td>\n",
       "      <td>0.57</td>\n",
       "      <td>0.9</td>\n",
       "      <td>0.2</td>\n",
       "    </tr>\n",
       "    <tr>\n",
       "      <th>38</th>\n",
       "      <td>750</td>\n",
       "      <td>200</td>\n",
       "      <td>True</td>\n",
       "      <td>0.64</td>\n",
       "      <td>1.0</td>\n",
       "      <td>0.4</td>\n",
       "    </tr>\n",
       "    <tr>\n",
       "      <th>39</th>\n",
       "      <td>750</td>\n",
       "      <td>200</td>\n",
       "      <td>False</td>\n",
       "      <td>0.66</td>\n",
       "      <td>1.0</td>\n",
       "      <td>0.4</td>\n",
       "    </tr>\n",
       "    <tr>\n",
       "      <th>40</th>\n",
       "      <td>500</td>\n",
       "      <td>10</td>\n",
       "      <td>True</td>\n",
       "      <td>0.19</td>\n",
       "      <td>0.5</td>\n",
       "      <td>0.0</td>\n",
       "    </tr>\n",
       "    <tr>\n",
       "      <th>41</th>\n",
       "      <td>500</td>\n",
       "      <td>10</td>\n",
       "      <td>False</td>\n",
       "      <td>0.19</td>\n",
       "      <td>0.5</td>\n",
       "      <td>0.0</td>\n",
       "    </tr>\n",
       "    <tr>\n",
       "      <th>42</th>\n",
       "      <td>500</td>\n",
       "      <td>20</td>\n",
       "      <td>True</td>\n",
       "      <td>0.35</td>\n",
       "      <td>0.8</td>\n",
       "      <td>0.1</td>\n",
       "    </tr>\n",
       "    <tr>\n",
       "      <th>43</th>\n",
       "      <td>500</td>\n",
       "      <td>20</td>\n",
       "      <td>False</td>\n",
       "      <td>0.35</td>\n",
       "      <td>0.8</td>\n",
       "      <td>0.1</td>\n",
       "    </tr>\n",
       "    <tr>\n",
       "      <th>44</th>\n",
       "      <td>500</td>\n",
       "      <td>30</td>\n",
       "      <td>True</td>\n",
       "      <td>0.42</td>\n",
       "      <td>0.8</td>\n",
       "      <td>0.1</td>\n",
       "    </tr>\n",
       "    <tr>\n",
       "      <th>45</th>\n",
       "      <td>500</td>\n",
       "      <td>30</td>\n",
       "      <td>False</td>\n",
       "      <td>0.42</td>\n",
       "      <td>0.8</td>\n",
       "      <td>0.1</td>\n",
       "    </tr>\n",
       "    <tr>\n",
       "      <th>46</th>\n",
       "      <td>500</td>\n",
       "      <td>100</td>\n",
       "      <td>True</td>\n",
       "      <td>0.59</td>\n",
       "      <td>0.9</td>\n",
       "      <td>0.3</td>\n",
       "    </tr>\n",
       "    <tr>\n",
       "      <th>47</th>\n",
       "      <td>500</td>\n",
       "      <td>100</td>\n",
       "      <td>False</td>\n",
       "      <td>0.60</td>\n",
       "      <td>0.9</td>\n",
       "      <td>0.3</td>\n",
       "    </tr>\n",
       "    <tr>\n",
       "      <th>48</th>\n",
       "      <td>500</td>\n",
       "      <td>200</td>\n",
       "      <td>True</td>\n",
       "      <td>0.57</td>\n",
       "      <td>0.9</td>\n",
       "      <td>0.3</td>\n",
       "    </tr>\n",
       "    <tr>\n",
       "      <th>49</th>\n",
       "      <td>500</td>\n",
       "      <td>200</td>\n",
       "      <td>False</td>\n",
       "      <td>0.57</td>\n",
       "      <td>0.9</td>\n",
       "      <td>0.3</td>\n",
       "    </tr>\n",
       "    <tr>\n",
       "      <th>50</th>\n",
       "      <td>250</td>\n",
       "      <td>10</td>\n",
       "      <td>True</td>\n",
       "      <td>0.16</td>\n",
       "      <td>0.4</td>\n",
       "      <td>0.0</td>\n",
       "    </tr>\n",
       "    <tr>\n",
       "      <th>51</th>\n",
       "      <td>250</td>\n",
       "      <td>10</td>\n",
       "      <td>False</td>\n",
       "      <td>0.16</td>\n",
       "      <td>0.4</td>\n",
       "      <td>0.0</td>\n",
       "    </tr>\n",
       "    <tr>\n",
       "      <th>52</th>\n",
       "      <td>250</td>\n",
       "      <td>20</td>\n",
       "      <td>True</td>\n",
       "      <td>0.21</td>\n",
       "      <td>0.5</td>\n",
       "      <td>0.0</td>\n",
       "    </tr>\n",
       "    <tr>\n",
       "      <th>53</th>\n",
       "      <td>250</td>\n",
       "      <td>20</td>\n",
       "      <td>False</td>\n",
       "      <td>0.21</td>\n",
       "      <td>0.5</td>\n",
       "      <td>0.0</td>\n",
       "    </tr>\n",
       "    <tr>\n",
       "      <th>54</th>\n",
       "      <td>250</td>\n",
       "      <td>30</td>\n",
       "      <td>True</td>\n",
       "      <td>0.27</td>\n",
       "      <td>0.6</td>\n",
       "      <td>0.0</td>\n",
       "    </tr>\n",
       "    <tr>\n",
       "      <th>55</th>\n",
       "      <td>250</td>\n",
       "      <td>30</td>\n",
       "      <td>False</td>\n",
       "      <td>0.27</td>\n",
       "      <td>0.5</td>\n",
       "      <td>0.0</td>\n",
       "    </tr>\n",
       "    <tr>\n",
       "      <th>56</th>\n",
       "      <td>250</td>\n",
       "      <td>100</td>\n",
       "      <td>True</td>\n",
       "      <td>0.42</td>\n",
       "      <td>0.6</td>\n",
       "      <td>0.2</td>\n",
       "    </tr>\n",
       "    <tr>\n",
       "      <th>57</th>\n",
       "      <td>250</td>\n",
       "      <td>100</td>\n",
       "      <td>False</td>\n",
       "      <td>0.42</td>\n",
       "      <td>0.6</td>\n",
       "      <td>0.2</td>\n",
       "    </tr>\n",
       "    <tr>\n",
       "      <th>58</th>\n",
       "      <td>250</td>\n",
       "      <td>200</td>\n",
       "      <td>True</td>\n",
       "      <td>0.47</td>\n",
       "      <td>0.6</td>\n",
       "      <td>0.2</td>\n",
       "    </tr>\n",
       "    <tr>\n",
       "      <th>59</th>\n",
       "      <td>250</td>\n",
       "      <td>200</td>\n",
       "      <td>False</td>\n",
       "      <td>0.46</td>\n",
       "      <td>0.6</td>\n",
       "      <td>0.2</td>\n",
       "    </tr>\n",
       "  </tbody>\n",
       "</table>\n",
       "</div>"
      ],
      "text/plain": [
       "    num_index_refs  num_query_refs  use_sins  mean  max  min\n",
       "0             1500              10      True  0.32  0.7  0.0\n",
       "1             1500              10     False  0.32  0.7  0.0\n",
       "2             1500              20      True  0.48  1.0  0.2\n",
       "3             1500              20     False  0.48  1.0  0.2\n",
       "4             1500              30      True  0.50  0.9  0.2\n",
       "5             1500              30     False  0.50  0.9  0.2\n",
       "6             1500             100      True  0.60  1.0  0.3\n",
       "7             1500             100     False  0.61  1.0  0.3\n",
       "8             1500             200      True  0.65  1.0  0.2\n",
       "9             1500             200     False  0.65  1.0  0.2\n",
       "10            1250              10      True  0.23  0.6  0.0\n",
       "11            1250              10     False  0.23  0.6  0.0\n",
       "12            1250              20      True  0.39  0.7  0.0\n",
       "13            1250              20     False  0.39  0.7  0.0\n",
       "14            1250              30      True  0.47  0.7  0.2\n",
       "15            1250              30     False  0.46  0.7  0.2\n",
       "16            1250             100      True  0.62  0.9  0.3\n",
       "17            1250             100     False  0.61  0.9  0.3\n",
       "18            1250             200      True  0.70  0.9  0.4\n",
       "19            1250             200     False  0.68  0.9  0.4\n",
       "20            1000              10      True  0.19  0.3  0.0\n",
       "21            1000              10     False  0.19  0.3  0.0\n",
       "22            1000              20      True  0.36  0.7  0.1\n",
       "23            1000              20     False  0.36  0.7  0.1\n",
       "24            1000              30      True  0.44  0.9  0.0\n",
       "25            1000              30     False  0.44  0.9  0.0\n",
       "26            1000             100      True  0.61  0.9  0.3\n",
       "27            1000             100     False  0.60  0.9  0.3\n",
       "28            1000             200      True  0.68  0.9  0.4\n",
       "29            1000             200     False  0.63  0.9  0.4\n",
       "30             750              10      True  0.21  0.6  0.0\n",
       "31             750              10     False  0.21  0.6  0.0\n",
       "32             750              20      True  0.31  0.8  0.0\n",
       "33             750              20     False  0.31  0.8  0.0\n",
       "34             750              30      True  0.34  0.9  0.0\n",
       "35             750              30     False  0.34  0.9  0.0\n",
       "36             750             100      True  0.56  0.9  0.2\n",
       "37             750             100     False  0.57  0.9  0.2\n",
       "38             750             200      True  0.64  1.0  0.4\n",
       "39             750             200     False  0.66  1.0  0.4\n",
       "40             500              10      True  0.19  0.5  0.0\n",
       "41             500              10     False  0.19  0.5  0.0\n",
       "42             500              20      True  0.35  0.8  0.1\n",
       "43             500              20     False  0.35  0.8  0.1\n",
       "44             500              30      True  0.42  0.8  0.1\n",
       "45             500              30     False  0.42  0.8  0.1\n",
       "46             500             100      True  0.59  0.9  0.3\n",
       "47             500             100     False  0.60  0.9  0.3\n",
       "48             500             200      True  0.57  0.9  0.3\n",
       "49             500             200     False  0.57  0.9  0.3\n",
       "50             250              10      True  0.16  0.4  0.0\n",
       "51             250              10     False  0.16  0.4  0.0\n",
       "52             250              20      True  0.21  0.5  0.0\n",
       "53             250              20     False  0.21  0.5  0.0\n",
       "54             250              30      True  0.27  0.6  0.0\n",
       "55             250              30     False  0.27  0.5  0.0\n",
       "56             250             100      True  0.42  0.6  0.2\n",
       "57             250             100     False  0.42  0.6  0.2\n",
       "58             250             200      True  0.47  0.6  0.2\n",
       "59             250             200     False  0.46  0.6  0.2"
      ]
     },
     "execution_count": 12,
     "metadata": {},
     "output_type": "execute_result"
    }
   ],
   "source": [
    "from collections import defaultdict\n",
    "import pandas as pd\n",
    "from statistics import mean\n",
    "\n",
    "\n",
    "def grid_search(refs_factory=random_vector):\n",
    "\n",
    "    num_search_rounds = 10\n",
    "\n",
    "    results = []\n",
    "\n",
    "    search_index_refs = [1500, 1250, 1000, 750, 500, 250]\n",
    "    for num_index_refs in search_index_refs:\n",
    "        refs, index = build_index(vects,\n",
    "                                  num_refs=num_index_refs,\n",
    "                                  refs_factory=refs_factory)\n",
    "        for num_query_refs in [10, 20, 30, 100, 200]:\n",
    "            for use_sins in [True, False]:\n",
    "                test_results = defaultdict(set)\n",
    "\n",
    "                recalls = []\n",
    "                for query in test_queries:\n",
    "                    query_search_results = search(index, refs, query, \n",
    "                                                  num_refs=num_query_refs, use_sins=use_sins)\n",
    "                    test_results[query] = set([vect_ord for vect_ord, _ in query_search_results])\n",
    "                    intersection = test_results[query] & ground_truths[query]\n",
    "                    recalls.append(len(intersection) / 10)\n",
    "\n",
    "                print(num_index_refs, num_query_refs, use_sins, mean(recalls))\n",
    "                results.append({'num_index_refs': num_index_refs,\n",
    "                                'num_query_refs': num_query_refs,\n",
    "                                'use_sins': use_sins,\n",
    "                                'mean': mean(recalls), \n",
    "                                'max': max(recalls),\n",
    "                                'min': min(recalls)})\n",
    "\n",
    "    return results\n",
    "\n",
    "pd.DataFrame(grid_search())"
   ]
  },
  {
   "cell_type": "markdown",
   "id": "374ae088-58cd-4e63-b1ff-07d46c8a6af5",
   "metadata": {},
   "source": [
    "## Try building refs from text from the corpus (but outside the index)\n",
    "\n",
    "As we sampled every other sentence, what happens when we sample sentences not included in the index as our reference points?"
   ]
  },
  {
   "cell_type": "code",
   "execution_count": 18,
   "id": "26df390e-5f1f-47ff-8750-c9f553d69ce7",
   "metadata": {
    "tags": []
   },
   "outputs": [
    {
     "name": "stdout",
     "output_type": "stream",
     "text": [
      "1500 10 True 0.060000000000000005\n",
      "1500 10 False 0.07\n",
      "1500 20 True 0.1\n",
      "1500 20 False 0.07\n",
      "1500 30 True 0.07\n",
      "1500 30 False 0.07\n",
      "1500 100 True 0.030000000000000002\n",
      "1500 100 False 0.02\n",
      "1500 200 True 0.01\n"
     ]
    },
    {
     "ename": "KeyboardInterrupt",
     "evalue": "",
     "output_type": "error",
     "traceback": [
      "\u001b[0;31m---------------------------------------------------------------------------\u001b[0m",
      "\u001b[0;31mKeyboardInterrupt\u001b[0m                         Traceback (most recent call last)",
      "Cell \u001b[0;32mIn[18], line 11\u001b[0m\n\u001b[1;32m      8\u001b[0m     \u001b[38;5;66;03m# print(np.array(vects_sample[ref_from_vects]).shape)\u001b[39;00m\n\u001b[1;32m      9\u001b[0m     \u001b[38;5;28;01mreturn\u001b[39;00m np\u001b[38;5;241m.\u001b[39marray(vects_sample[ref_from_vects])\n\u001b[0;32m---> 11\u001b[0m results \u001b[38;5;241m=\u001b[39m pd\u001b[38;5;241m.\u001b[39mDataFrame(\u001b[43mgrid_search\u001b[49m\u001b[43m(\u001b[49m\u001b[43mrefs_factory\u001b[49m\u001b[38;5;241;43m=\u001b[39;49m\u001b[43mvectors_from_text\u001b[49m\u001b[43m)\u001b[49m)\n\u001b[1;32m     12\u001b[0m results\n",
      "Cell \u001b[0;32mIn[12], line 23\u001b[0m, in \u001b[0;36mgrid_search\u001b[0;34m(refs_factory)\u001b[0m\n\u001b[1;32m     21\u001b[0m recalls \u001b[38;5;241m=\u001b[39m []\n\u001b[1;32m     22\u001b[0m \u001b[38;5;28;01mfor\u001b[39;00m query \u001b[38;5;129;01min\u001b[39;00m test_queries:\n\u001b[0;32m---> 23\u001b[0m     query_search_results \u001b[38;5;241m=\u001b[39m \u001b[43msearch\u001b[49m\u001b[43m(\u001b[49m\u001b[43mindex\u001b[49m\u001b[43m,\u001b[49m\u001b[43m \u001b[49m\u001b[43mrefs\u001b[49m\u001b[43m,\u001b[49m\u001b[43m \u001b[49m\u001b[43mquery\u001b[49m\u001b[43m,\u001b[49m\u001b[43m \u001b[49m\n\u001b[1;32m     24\u001b[0m \u001b[43m                                  \u001b[49m\u001b[43mnum_refs\u001b[49m\u001b[38;5;241;43m=\u001b[39;49m\u001b[43mnum_query_refs\u001b[49m\u001b[43m,\u001b[49m\u001b[43m \u001b[49m\u001b[43muse_sins\u001b[49m\u001b[38;5;241;43m=\u001b[39;49m\u001b[43muse_sins\u001b[49m\u001b[43m)\u001b[49m\n\u001b[1;32m     25\u001b[0m     test_results[query] \u001b[38;5;241m=\u001b[39m \u001b[38;5;28mset\u001b[39m([vect_ord \u001b[38;5;28;01mfor\u001b[39;00m vect_ord, _ \u001b[38;5;129;01min\u001b[39;00m query_search_results])\n\u001b[1;32m     26\u001b[0m     intersection \u001b[38;5;241m=\u001b[39m test_results[query] \u001b[38;5;241m&\u001b[39m ground_truths[query]\n",
      "Cell \u001b[0;32mIn[16], line 42\u001b[0m, in \u001b[0;36msearch\u001b[0;34m(index, refs, query, num_refs, use_sins)\u001b[0m\n\u001b[1;32m     39\u001b[0m \u001b[38;5;66;03m# print(dotted, best_ref_ords, sins)\u001b[39;00m\n\u001b[1;32m     41\u001b[0m every_dotted \u001b[38;5;241m=\u001b[39m index[:, best_ref_ords] \u001b[38;5;241m*\u001b[39m dotted\n\u001b[0;32m---> 42\u001b[0m \u001b[38;5;28;01mif\u001b[39;00m use_sins:\n\u001b[1;32m     43\u001b[0m     every_dotted \u001b[38;5;241m*\u001b[39m\u001b[38;5;241m=\u001b[39m sins\n\u001b[1;32m     45\u001b[0m vects_scored \u001b[38;5;241m=\u001b[39m np\u001b[38;5;241m.\u001b[39msum(every_dotted, axis\u001b[38;5;241m=\u001b[39m\u001b[38;5;241m1\u001b[39m)\n",
      "\u001b[0;31mKeyboardInterrupt\u001b[0m: "
     ]
    }
   ],
   "source": [
    "_, vects_sample = load_sentences()\n",
    "del _\n",
    "np.random.shuffle(vects_sample)\n",
    "vects_sample = vects_sample[1:20000:2]\n",
    "\n",
    "def vectors_from_text(num_dims):\n",
    "    ref_from_vects = np.random.randint(0, len(vects_sample))\n",
    "    # print(np.array(vects_sample[ref_from_vects]).shape)\n",
    "    return np.array(vects_sample[ref_from_vects])\n",
    "\n",
    "results = pd.DataFrame(grid_search(refs_factory=vectors_from_text))\n",
    "results"
   ]
  },
  {
   "cell_type": "markdown",
   "id": "915b7ad6-28f2-4033-86f8-55b05a04007c",
   "metadata": {},
   "source": [
    "## We observe pretty poor performance, why?\n",
    "\n",
    "It seems intentionally putting in 'better' / 'closer' vectors does not matter. This seems to go against an intuition that it would get 'most' of the dot product information sooner. Why is this?\n",
    "\n",
    "Let's debug one case."
   ]
  },
  {
   "cell_type": "code",
   "execution_count": 63,
   "id": "d12de144-4d41-4d88-8134-1d728bb27134",
   "metadata": {
    "tags": []
   },
   "outputs": [],
   "source": [
    "refs, index = build_index(vects,\n",
    "                          num_refs=500,\n",
    "                          refs_factory=vectors_from_text)\n",
    "\n",
    "query = 'mary had a little lamb'\n",
    "query_search_results, best_ref_ords, refs_dotted, _ = search(index, refs, query, num_refs=10, use_sins=True, debug=True)"
   ]
  },
  {
   "cell_type": "code",
   "execution_count": 64,
   "id": "ee3df160-bbad-4595-b035-459c6abe4cd6",
   "metadata": {
    "tags": []
   },
   "outputs": [
    {
     "data": {
      "text/plain": [
       "[(2523985, 0.7074686),\n",
       " (1044716, 0.68161774),\n",
       " (2474909, 0.6744265),\n",
       " (928745, 0.6611039),\n",
       " (1144829, 0.6544002),\n",
       " (2523986, 0.65337944),\n",
       " (2474895, 0.6525349),\n",
       " (2515250, 0.649726),\n",
       " (1041612, 0.64874685),\n",
       " (1044637, 0.646878)]"
      ]
     },
     "execution_count": 64,
     "metadata": {},
     "output_type": "execute_result"
    }
   ],
   "source": [
    "query_search_results"
   ]
  },
  {
   "cell_type": "code",
   "execution_count": 65,
   "id": "ec98db9f-e3ea-4264-971d-5cc14fe79576",
   "metadata": {},
   "outputs": [
    {
     "data": {
      "text/plain": [
       "{611431,\n",
       " 775918,\n",
       " 1393341,\n",
       " 1418816,\n",
       " 1887627,\n",
       " 1996387,\n",
       " 1997224,\n",
       " 2991842,\n",
       " 3120137,\n",
       " 3447108}"
      ]
     },
     "execution_count": 65,
     "metadata": {},
     "output_type": "execute_result"
    }
   ],
   "source": [
    "ground_truths['mary had a little lamb']"
   ]
  },
  {
   "cell_type": "markdown",
   "id": "2d8c9077-a193-49f5-bd1d-31af0f7f97bf",
   "metadata": {},
   "source": [
    "## Examine the debug output\n",
    "\n",
    "These are the best refs relative to the query vector, and their dot products to query vector. We also confirm the returned dot product to each query vector is as expected."
   ]
  },
  {
   "cell_type": "code",
   "execution_count": 66,
   "id": "6022d638-c68e-4161-b8ee-2666c28dbe13",
   "metadata": {
    "tags": []
   },
   "outputs": [
    {
     "data": {
      "text/plain": [
       "array([327, 115, 229,  56, 462,  77, 363, 236, 452, 471])"
      ]
     },
     "execution_count": 66,
     "metadata": {},
     "output_type": "execute_result"
    }
   ],
   "source": [
    "best_ref_ords"
   ]
  },
  {
   "cell_type": "code",
   "execution_count": 70,
   "id": "6a980acf-83df-43f2-ab43-85e311fad7b6",
   "metadata": {
    "tags": []
   },
   "outputs": [
    {
     "data": {
      "text/plain": [
       "array([0.28926173, 0.28270322, 0.2686716 , 0.24036624, 0.22792214,\n",
       "       0.22556499, 0.21199271, 0.2117053 , 0.205437  , 0.20000759],\n",
       "      dtype=float32)"
      ]
     },
     "execution_count": 70,
     "metadata": {},
     "output_type": "execute_result"
    }
   ],
   "source": [
    "refs_dotted"
   ]
  },
  {
   "cell_type": "code",
   "execution_count": 69,
   "id": "94aba9a9-1f13-4f86-bb0c-6a12b7e56505",
   "metadata": {
    "tags": []
   },
   "outputs": [
    {
     "data": {
      "text/plain": [
       "0.28926173"
      ]
     },
     "execution_count": 69,
     "metadata": {},
     "output_type": "execute_result"
    }
   ],
   "source": [
    "query_vector = model.encode(query)\n",
    "np.dot(refs, query_vector)[327]"
   ]
  },
  {
   "cell_type": "markdown",
   "id": "2388951d-1fe8-465c-ad38-ffc634739b0d",
   "metadata": {},
   "source": [
    "## Reconstruct the refs dotted with index\n",
    "\n",
    "Here columns are each ref, ordered by similarity, and columns are each indexed vector."
   ]
  },
  {
   "cell_type": "code",
   "execution_count": 30,
   "id": "05e93072-3c15-4026-a238-080a8760e270",
   "metadata": {
    "tags": []
   },
   "outputs": [
    {
     "data": {
      "text/plain": [
       "array([[-0.00285271,  0.01095413,  0.00565327, ...,  0.00184634,\n",
       "         0.00163272, -0.02223657],\n",
       "       [ 0.00059355,  0.04823959,  0.07170182, ...,  0.02003475,\n",
       "         0.03177835,  0.03683331],\n",
       "       [-0.01185192,  0.00865418,  0.03142527, ..., -0.00641909,\n",
       "         0.02141719, -0.01012504],\n",
       "       ...,\n",
       "       [-0.02139655,  0.00270634,  0.01438915, ..., -0.00806189,\n",
       "         0.02504144,  0.01950342],\n",
       "       [ 0.0306883 ,  0.03082296,  0.04067402, ...,  0.05346516,\n",
       "         0.02163279,  0.04414181],\n",
       "       [-0.03700887, -0.00142959,  0.02253393, ...,  0.00854083,\n",
       "         0.00781648,  0.02723801]], dtype=float32)"
      ]
     },
     "execution_count": 30,
     "metadata": {},
     "output_type": "execute_result"
    }
   ],
   "source": [
    "every_vect_dotted = index[:, best_ref_ords] * dotted\n",
    "every_vect_dotted"
   ]
  },
  {
   "cell_type": "code",
   "execution_count": 32,
   "id": "baa489ef-54ae-45e7-923c-19544aa34987",
   "metadata": {
    "tags": []
   },
   "outputs": [
    {
     "data": {
      "text/plain": [
       "(3935913, 10)"
      ]
     },
     "execution_count": 32,
     "metadata": {},
     "output_type": "execute_result"
    }
   ],
   "source": [
    "every_dotted.shape"
   ]
  },
  {
   "cell_type": "markdown",
   "id": "59db6001-56f1-4589-b608-7a9bb38057f8",
   "metadata": {},
   "source": [
    "## Expected rank / dot of ground truth vs output\n",
    "\n",
    "We observe something surprising:\n",
    "\n",
    "- The rank of the ground truth most similar to our query, is more dissisimilar to our refs\n",
    "- As the refs are not random, they're sampled from the corpus, similarity to our query, seems to have dissisimilarity to our indexed value\n",
    "\n",
    "So when the reference vectors are NOT random, and your observer (query) is close to a landmark (ref), it may mean the closest thing to that landmark is NOT the thing closest to the query?"
   ]
  },
  {
   "cell_type": "code",
   "execution_count": 73,
   "id": "597b1676-5840-48af-a5e6-65bc5a6ba163",
   "metadata": {
    "tags": []
   },
   "outputs": [
    {
     "name": "stdout",
     "output_type": "stream",
     "text": [
      "0.34889573\n",
      "0.5288173\n"
     ]
    },
    {
     "data": {
      "text/html": [
       "<div>\n",
       "<style scoped>\n",
       "    .dataframe tbody tr th:only-of-type {\n",
       "        vertical-align: middle;\n",
       "    }\n",
       "\n",
       "    .dataframe tbody tr th {\n",
       "        vertical-align: top;\n",
       "    }\n",
       "\n",
       "    .dataframe thead th {\n",
       "        text-align: right;\n",
       "    }\n",
       "</style>\n",
       "<table border=\"1\" class=\"dataframe\">\n",
       "  <thead>\n",
       "    <tr style=\"text-align: right;\">\n",
       "      <th></th>\n",
       "      <th>ref</th>\n",
       "      <th>query_to_ref</th>\n",
       "      <th>ref_to_output</th>\n",
       "      <th>ref_to_ground_truth</th>\n",
       "      <th>top_rank_output</th>\n",
       "      <th>top_rank_expected</th>\n",
       "    </tr>\n",
       "  </thead>\n",
       "  <tbody>\n",
       "    <tr>\n",
       "      <th>0</th>\n",
       "      <td>0</td>\n",
       "      <td>0.289262</td>\n",
       "      <td>0.066397</td>\n",
       "      <td>0.040628</td>\n",
       "      <td>32432</td>\n",
       "      <td>286418</td>\n",
       "    </tr>\n",
       "    <tr>\n",
       "      <th>1</th>\n",
       "      <td>1</td>\n",
       "      <td>0.282703</td>\n",
       "      <td>0.029907</td>\n",
       "      <td>0.033404</td>\n",
       "      <td>794120</td>\n",
       "      <td>663651</td>\n",
       "    </tr>\n",
       "    <tr>\n",
       "      <th>2</th>\n",
       "      <td>2</td>\n",
       "      <td>0.268672</td>\n",
       "      <td>0.032889</td>\n",
       "      <td>0.019059</td>\n",
       "      <td>769336</td>\n",
       "      <td>1481044</td>\n",
       "    </tr>\n",
       "    <tr>\n",
       "      <th>3</th>\n",
       "      <td>3</td>\n",
       "      <td>0.240366</td>\n",
       "      <td>0.014134</td>\n",
       "      <td>0.001334</td>\n",
       "      <td>1705350</td>\n",
       "      <td>2795982</td>\n",
       "    </tr>\n",
       "    <tr>\n",
       "      <th>4</th>\n",
       "      <td>4</td>\n",
       "      <td>0.227922</td>\n",
       "      <td>0.071331</td>\n",
       "      <td>0.053631</td>\n",
       "      <td>4948</td>\n",
       "      <td>27071</td>\n",
       "    </tr>\n",
       "    <tr>\n",
       "      <th>5</th>\n",
       "      <td>5</td>\n",
       "      <td>0.225565</td>\n",
       "      <td>0.074768</td>\n",
       "      <td>0.055362</td>\n",
       "      <td>2817</td>\n",
       "      <td>22408</td>\n",
       "    </tr>\n",
       "    <tr>\n",
       "      <th>6</th>\n",
       "      <td>6</td>\n",
       "      <td>0.211993</td>\n",
       "      <td>0.034790</td>\n",
       "      <td>0.028854</td>\n",
       "      <td>433181</td>\n",
       "      <td>589428</td>\n",
       "    </tr>\n",
       "    <tr>\n",
       "      <th>7</th>\n",
       "      <td>7</td>\n",
       "      <td>0.211705</td>\n",
       "      <td>0.019519</td>\n",
       "      <td>0.014662</td>\n",
       "      <td>957668</td>\n",
       "      <td>1315977</td>\n",
       "    </tr>\n",
       "    <tr>\n",
       "      <th>8</th>\n",
       "      <td>8</td>\n",
       "      <td>0.205437</td>\n",
       "      <td>0.022211</td>\n",
       "      <td>0.035527</td>\n",
       "      <td>933253</td>\n",
       "      <td>359575</td>\n",
       "    </tr>\n",
       "    <tr>\n",
       "      <th>9</th>\n",
       "      <td>9</td>\n",
       "      <td>0.200008</td>\n",
       "      <td>0.032051</td>\n",
       "      <td>0.009996</td>\n",
       "      <td>461450</td>\n",
       "      <td>1793365</td>\n",
       "    </tr>\n",
       "  </tbody>\n",
       "</table>\n",
       "</div>"
      ],
      "text/plain": [
       "   ref  query_to_ref  ref_to_output  ref_to_ground_truth  top_rank_output  \\\n",
       "0    0      0.289262       0.066397             0.040628            32432   \n",
       "1    1      0.282703       0.029907             0.033404           794120   \n",
       "2    2      0.268672       0.032889             0.019059           769336   \n",
       "3    3      0.240366       0.014134             0.001334          1705350   \n",
       "4    4      0.227922       0.071331             0.053631             4948   \n",
       "5    5      0.225565       0.074768             0.055362             2817   \n",
       "6    6      0.211993       0.034790             0.028854           433181   \n",
       "7    7      0.211705       0.019519             0.014662           957668   \n",
       "8    8      0.205437       0.022211             0.035527           933253   \n",
       "9    9      0.200008       0.032051             0.009996           461450   \n",
       "\n",
       "   top_rank_expected  \n",
       "0             286418  \n",
       "1             663651  \n",
       "2            1481044  \n",
       "3            2795982  \n",
       "4              27071  \n",
       "5              22408  \n",
       "6             589428  \n",
       "7            1315977  \n",
       "8             359575  \n",
       "9            1793365  "
      ]
     },
     "execution_count": 73,
     "metadata": {},
     "output_type": "execute_result"
    }
   ],
   "source": [
    "def ref_dotted(idx):\n",
    "    ref_0_ords = np.argsort(-every_dotted[:, idx])\n",
    "    ref_0_dotted = every_dotted[ref_0_ords, idx]\n",
    "    return ref_0_ords, ref_0_dotted\n",
    "\n",
    "top_result = 1903917\n",
    "expected_top_result = 611431\n",
    "\n",
    "print(np.dot(query_vector, vects[top_result]))\n",
    "print(np.dot(query_vector, vects[expected_top_result]))\n",
    "\n",
    "\n",
    "output = []\n",
    "for i in range(0, 10):\n",
    "    ords, dotted = ref_dotted(i)\n",
    "    rank_top_result = np.where(ords == top_result)[0][0]\n",
    "    rank_expected_top_result = np.where(ords == expected_top_result)[0][0]\n",
    "    output.append({'ref': i, \n",
    "                   'query_to_ref': refs_dotted[i],\n",
    "                   'ref_to_output': dotted[rank_top_result],\n",
    "                   'ref_to_ground_truth': dotted[rank_expected_top_result],\n",
    "                   'top_rank_output': rank_top_result,\n",
    "                   'top_rank_expected': rank_expected_top_result})\n",
    "output = pd.DataFrame(output)\n",
    "output"
   ]
  },
  {
   "cell_type": "code",
   "execution_count": 75,
   "id": "c42330cb-4f75-4b36-bdab-def25ad39ead",
   "metadata": {
    "tags": []
   },
   "outputs": [
    {
     "data": {
      "text/plain": [
       "ref                         4.500000\n",
       "query_to_ref                0.236363\n",
       "ref_to_output               0.039800\n",
       "ref_to_ground_truth         0.029246\n",
       "top_rank_output        609455.500000\n",
       "top_rank_expected      933491.900000\n",
       "dtype: float64"
      ]
     },
     "execution_count": 75,
     "metadata": {},
     "output_type": "execute_result"
    }
   ],
   "source": [
    "output.mean()"
   ]
  },
  {
   "cell_type": "markdown",
   "id": "e3d00df3-a0e1-4a7b-9c5c-21efe2521066",
   "metadata": {},
   "source": [
    "## Can we recreate this situation\n",
    "\n",
    "Here's a little baby 6 dimensional index"
   ]
  },
  {
   "cell_type": "code",
   "execution_count": 100,
   "id": "d0fde970-39b7-40ee-a6d9-38e8bd372979",
   "metadata": {
    "tags": []
   },
   "outputs": [
    {
     "data": {
      "text/plain": [
       "array([[0.5189993 , 0.48589766, 0.        , 0.        , 0.        ,\n",
       "        0.89442719],\n",
       "       [0.5189993 , 0.58307719, 0.        , 0.        , 0.78086881,\n",
       "        0.        ]])"
      ]
     },
     "execution_count": 100,
     "metadata": {},
     "output_type": "execute_result"
    }
   ],
   "source": [
    "near_vects = np.array([[1   ,0.75  ,0  ,0   ,0   ,0.1],\n",
    "                       [0.9 ,1  ,0  ,0   ,0   ,0.05],\n",
    "                       [1   ,0.9,0  ,0   ,0.05,0 ],\n",
    "                       [0.95,0.1,0.1,0.01,0.04,0]])\n",
    "\n",
    "near_vects /= np.linalg.norm(near_vects, axis=0)\n",
    "\n",
    "vects_to_index = near_vects[::2]\n",
    "refs = near_vects[1::2]\n",
    "\n",
    "vects_to_index"
   ]
  },
  {
   "cell_type": "markdown",
   "id": "761e32e6-edb6-4429-8d26-d45e47034ebe",
   "metadata": {},
   "source": [
    "## Query, closest to the 2nd indexed vector"
   ]
  },
  {
   "cell_type": "code",
   "execution_count": 106,
   "id": "f739aea0-91c0-460f-98ad-d4aae8216d40",
   "metadata": {
    "tags": []
   },
   "outputs": [
    {
     "data": {
      "text/plain": [
       "array([0.70706205, 0.70706205, 0.00785624, 0.00785624, 0.00157125,\n",
       "       0.00078562])"
      ]
     },
     "execution_count": 106,
     "metadata": {},
     "output_type": "execute_result"
    }
   ],
   "source": [
    "query_vector = np.array([0.9   ,0.9  ,0.01  ,0.01   ,0.002   ,0.001])\n",
    "query_vector /= np.linalg.norm(query_vector)\n",
    "query_vector"
   ]
  },
  {
   "cell_type": "code",
   "execution_count": 105,
   "id": "52539f10-3fcb-4dc6-ba0e-3324c737ed05",
   "metadata": {
    "tags": []
   },
   "outputs": [
    {
     "data": {
      "text/plain": [
       "array([0.71122718, 0.7804634 ])"
      ]
     },
     "execution_count": 105,
     "metadata": {},
     "output_type": "execute_result"
    }
   ],
   "source": [
    "np.dot(vects_to_index, query_vector)"
   ]
  },
  {
   "cell_type": "markdown",
   "id": "0de7aa77-a466-4c6a-bbd6-52c645e86100",
   "metadata": {},
   "source": [
    "## Pass through refs, get the closest ref\n",
    "\n",
    "It's closest to the 0th ref... but that ref is closest to the WRONG answer! "
   ]
  },
  {
   "cell_type": "code",
   "execution_count": 107,
   "id": "66262045-374c-47c2-ab6a-0423197d7a25",
   "metadata": {
    "tags": []
   },
   "outputs": [
    {
     "data": {
      "text/plain": [
       "array([0.7886993 , 0.41111848])"
      ]
     },
     "execution_count": 107,
     "metadata": {},
     "output_type": "execute_result"
    }
   ],
   "source": [
    "np.dot(refs, query_vector)"
   ]
  },
  {
   "cell_type": "code",
   "execution_count": 108,
   "id": "c935d570-3467-4dcd-893a-4ead7769cf88",
   "metadata": {
    "tags": []
   },
   "outputs": [
    {
     "data": {
      "text/plain": [
       "array([0.95721963, 0.6201787 ])"
      ]
     },
     "execution_count": 108,
     "metadata": {},
     "output_type": "execute_result"
    }
   ],
   "source": [
    "np.dot(vects_to_index, refs[0])"
   ]
  },
  {
   "cell_type": "code",
   "execution_count": 109,
   "id": "e50954af-2dd3-4caa-930c-24d5ee75c3f4",
   "metadata": {
    "tags": []
   },
   "outputs": [
    {
     "data": {
      "text/plain": [
       "array([0.28737179, 0.78147258])"
      ]
     },
     "execution_count": 109,
     "metadata": {},
     "output_type": "execute_result"
    }
   ],
   "source": [
    "np.dot(vects_to_index, refs[1])"
   ]
  },
  {
   "cell_type": "markdown",
   "id": "40ae57f9-1a0f-47e1-b0ad-6f831ae55971",
   "metadata": {},
   "source": [
    "## Theory, things nearby, create 'unexpected' situations\n",
    "\n",
    "Consider teh following query Q, ref R, vectors V1 and V2:\n",
    "\n",
    "```\n",
    "|--------------------------------------|\n",
    "|                R                     |\n",
    "|                   V2                 |\n",
    "|            Q                         |\n",
    "|               V1                     |\n",
    "|                                      |\n",
    "|--------------------------------------|\n",
    "```\n",
    "\n",
    "To this 'close' ref `V2` is closer to the ref, despite being fartherst from `V1`.\n",
    "\n",
    "Yet consider when the query AND refs are nearby (as per our ranking of refs), with the ref being used to examine distant points\n",
    "\n",
    "\n",
    "```\n",
    "|--------------------------------------|\n",
    "|                R                     |\n",
    "|                             V2       |\n",
    "|            Q             V1          |\n",
    "|                                      |\n",
    "|                                      |\n",
    "|--------------------------------------|\n",
    "```\n",
    "\n",
    "Here the query and ref are closeby, and therefore what's near R is also near Q.\n"
   ]
  },
  {
   "cell_type": "code",
   "execution_count": null,
   "id": "029f869b-e87d-4b2f-9ec0-a921d5c446ce",
   "metadata": {},
   "outputs": [],
   "source": []
  }
 ],
 "metadata": {
  "kernelspec": {
   "display_name": "Python 3 (ipykernel)",
   "language": "python",
   "name": "python3"
  },
  "language_info": {
   "codemirror_mode": {
    "name": "ipython",
    "version": 3
   },
   "file_extension": ".py",
   "mimetype": "text/x-python",
   "name": "python",
   "nbconvert_exporter": "python",
   "pygments_lexer": "ipython3",
   "version": "3.10.9"
  }
 },
 "nbformat": 4,
 "nbformat_minor": 5
}
