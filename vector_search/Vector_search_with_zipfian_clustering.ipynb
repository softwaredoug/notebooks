{
 "cells": [
  {
   "cell_type": "code",
   "execution_count": 164,
   "metadata": {
    "colab": {
     "base_uri": "https://localhost:8080/"
    },
    "id": "MYKUrvzaN4eN",
    "outputId": "95892a69-3b26-4b13-abd9-aec0a28b05eb",
    "tags": []
   },
   "outputs": [
    {
     "name": "stdout",
     "output_type": "stream",
     "text": [
      "huggingface/tokenizers: The current process just got forked, after parallelism has already been used. Disabling parallelism to avoid deadlocks...\n",
      "To disable this warning, you can either:\n",
      "\t- Avoid using `tokenizers` before the fork if possible\n",
      "\t- Explicitly set the environment variable TOKENIZERS_PARALLELISM=(true | false)\n",
      "Looking in indexes: https://artifactory.build.ue1.snooguts.net/artifactory/api/pypi/reddit-python-prod/simple\n",
      "Requirement already satisfied: sentence_transformers in /Users/douglas.turnbull/ws/notebooks/venv/lib/python3.10/site-packages (2.2.2)\n",
      "Requirement already satisfied: transformers<5.0.0,>=4.6.0 in /Users/douglas.turnbull/ws/notebooks/venv/lib/python3.10/site-packages (from sentence_transformers) (4.26.1)\n",
      "Requirement already satisfied: tqdm in /Users/douglas.turnbull/ws/notebooks/venv/lib/python3.10/site-packages (from sentence_transformers) (4.64.1)\n",
      "Requirement already satisfied: torch>=1.6.0 in /Users/douglas.turnbull/ws/notebooks/venv/lib/python3.10/site-packages (from sentence_transformers) (1.13.1)\n",
      "Requirement already satisfied: torchvision in /Users/douglas.turnbull/ws/notebooks/venv/lib/python3.10/site-packages (from sentence_transformers) (0.14.1)\n",
      "Requirement already satisfied: numpy in /Users/douglas.turnbull/ws/notebooks/venv/lib/python3.10/site-packages (from sentence_transformers) (1.21.6)\n",
      "Requirement already satisfied: scikit-learn in /Users/douglas.turnbull/ws/notebooks/venv/lib/python3.10/site-packages (from sentence_transformers) (1.2.1)\n",
      "Requirement already satisfied: scipy in /Users/douglas.turnbull/ws/notebooks/venv/lib/python3.10/site-packages (from sentence_transformers) (1.10.1)\n",
      "Requirement already satisfied: nltk in /Users/douglas.turnbull/ws/notebooks/venv/lib/python3.10/site-packages (from sentence_transformers) (3.8.1)\n",
      "Requirement already satisfied: sentencepiece in /Users/douglas.turnbull/ws/notebooks/venv/lib/python3.10/site-packages (from sentence_transformers) (0.1.97)\n",
      "Requirement already satisfied: huggingface-hub>=0.4.0 in /Users/douglas.turnbull/ws/notebooks/venv/lib/python3.10/site-packages (from sentence_transformers) (0.12.1)\n",
      "Requirement already satisfied: pyyaml>=5.1 in /Users/douglas.turnbull/ws/notebooks/venv/lib/python3.10/site-packages (from huggingface-hub>=0.4.0->sentence_transformers) (6.0)\n",
      "Requirement already satisfied: typing-extensions>=3.7.4.3 in /Users/douglas.turnbull/ws/notebooks/venv/lib/python3.10/site-packages (from huggingface-hub>=0.4.0->sentence_transformers) (4.5.0)\n",
      "Requirement already satisfied: requests in /Users/douglas.turnbull/ws/notebooks/venv/lib/python3.10/site-packages (from huggingface-hub>=0.4.0->sentence_transformers) (2.28.2)\n",
      "Requirement already satisfied: filelock in /Users/douglas.turnbull/ws/notebooks/venv/lib/python3.10/site-packages (from huggingface-hub>=0.4.0->sentence_transformers) (3.9.0)\n",
      "Requirement already satisfied: packaging>=20.9 in /Users/douglas.turnbull/ws/notebooks/venv/lib/python3.10/site-packages (from huggingface-hub>=0.4.0->sentence_transformers) (23.0)\n",
      "Requirement already satisfied: regex!=2019.12.17 in /Users/douglas.turnbull/ws/notebooks/venv/lib/python3.10/site-packages (from transformers<5.0.0,>=4.6.0->sentence_transformers) (2022.10.31)\n",
      "Requirement already satisfied: tokenizers!=0.11.3,<0.14,>=0.11.1 in /Users/douglas.turnbull/ws/notebooks/venv/lib/python3.10/site-packages (from transformers<5.0.0,>=4.6.0->sentence_transformers) (0.13.2)\n",
      "Requirement already satisfied: click in /Users/douglas.turnbull/ws/notebooks/venv/lib/python3.10/site-packages (from nltk->sentence_transformers) (8.1.3)\n",
      "Requirement already satisfied: joblib in /Users/douglas.turnbull/ws/notebooks/venv/lib/python3.10/site-packages (from nltk->sentence_transformers) (1.2.0)\n",
      "Requirement already satisfied: threadpoolctl>=2.0.0 in /Users/douglas.turnbull/ws/notebooks/venv/lib/python3.10/site-packages (from scikit-learn->sentence_transformers) (3.1.0)\n",
      "Requirement already satisfied: pillow!=8.3.*,>=5.3.0 in /Users/douglas.turnbull/ws/notebooks/venv/lib/python3.10/site-packages (from torchvision->sentence_transformers) (9.4.0)\n",
      "Requirement already satisfied: charset-normalizer<4,>=2 in /Users/douglas.turnbull/ws/notebooks/venv/lib/python3.10/site-packages (from requests->huggingface-hub>=0.4.0->sentence_transformers) (3.0.1)\n",
      "Requirement already satisfied: idna<4,>=2.5 in /Users/douglas.turnbull/ws/notebooks/venv/lib/python3.10/site-packages (from requests->huggingface-hub>=0.4.0->sentence_transformers) (3.4)\n",
      "Requirement already satisfied: urllib3<1.27,>=1.21.1 in /Users/douglas.turnbull/ws/notebooks/venv/lib/python3.10/site-packages (from requests->huggingface-hub>=0.4.0->sentence_transformers) (1.26.14)\n",
      "Requirement already satisfied: certifi>=2017.4.17 in /Users/douglas.turnbull/ws/notebooks/venv/lib/python3.10/site-packages (from requests->huggingface-hub>=0.4.0->sentence_transformers) (2022.12.7)\n",
      "huggingface/tokenizers: The current process just got forked, after parallelism has already been used. Disabling parallelism to avoid deadlocks...\n",
      "To disable this warning, you can either:\n",
      "\t- Avoid using `tokenizers` before the fork if possible\n",
      "\t- Explicitly set the environment variable TOKENIZERS_PARALLELISM=(true | false)\n",
      "Looking in indexes: https://artifactory.build.ue1.snooguts.net/artifactory/api/pypi/reddit-python-prod/simple\n",
      "Requirement already satisfied: elasticsearch==7.10.1 in /Users/douglas.turnbull/ws/notebooks/venv/lib/python3.10/site-packages (7.10.1)\n",
      "Requirement already satisfied: urllib3<2,>=1.21.1 in /Users/douglas.turnbull/ws/notebooks/venv/lib/python3.10/site-packages (from elasticsearch==7.10.1) (1.26.14)\n",
      "Requirement already satisfied: certifi in /Users/douglas.turnbull/ws/notebooks/venv/lib/python3.10/site-packages (from elasticsearch==7.10.1) (2022.12.7)\n",
      "huggingface/tokenizers: The current process just got forked, after parallelism has already been used. Disabling parallelism to avoid deadlocks...\n",
      "To disable this warning, you can either:\n",
      "\t- Avoid using `tokenizers` before the fork if possible\n",
      "\t- Explicitly set the environment variable TOKENIZERS_PARALLELISM=(true | false)\n",
      "Looking in indexes: https://artifactory.build.ue1.snooguts.net/artifactory/api/pypi/reddit-python-prod/simple\n",
      "Requirement already satisfied: numpy==1.21.6 in /Users/douglas.turnbull/ws/notebooks/venv/lib/python3.10/site-packages (1.21.6)\n",
      "huggingface/tokenizers: The current process just got forked, after parallelism has already been used. Disabling parallelism to avoid deadlocks...\n",
      "To disable this warning, you can either:\n",
      "\t- Avoid using `tokenizers` before the fork if possible\n",
      "\t- Explicitly set the environment variable TOKENIZERS_PARALLELISM=(true | false)\n",
      "--2023-03-02 15:05:42--  https://gist.githubusercontent.com/h3xx/1976236/raw/bbabb412261386673eff521dddbe1dc815373b1d/wiki-100k.txt\n",
      "Resolving gist.githubusercontent.com (gist.githubusercontent.com)... 185.199.111.133, 185.199.108.133, 185.199.109.133, ...\n",
      "Connecting to gist.githubusercontent.com (gist.githubusercontent.com)|185.199.111.133|:443... connected.\n",
      "HTTP request sent, awaiting response... 200 OK\n",
      "Length: 823537 (804K) [text/plain]\n",
      "Saving to: ‘wiki-100k.txt.4’\n",
      "\n",
      "wiki-100k.txt.4     100%[===================>] 804.24K  --.-KB/s    in 0.1s    \n",
      "\n",
      "2023-03-02 15:05:42 (6.58 MB/s) - ‘wiki-100k.txt.4’ saved [823537/823537]\n",
      "\n"
     ]
    }
   ],
   "source": [
    "!pip install sentence_transformers\n",
    "!pip install elasticsearch==7.10.1\n",
    "!pip install numpy==1.21.6\n",
    "!wget https://gist.githubusercontent.com/h3xx/1976236/raw/bbabb412261386673eff521dddbe1dc815373b1d/wiki-100k.txt"
   ]
  },
  {
   "cell_type": "markdown",
   "metadata": {
    "id": "TkRq_FL_HI7x"
   },
   "source": [
    "## Encoded sentences\n",
    "\n",
    "Encode 100K wikipedia sentences"
   ]
  },
  {
   "cell_type": "code",
   "execution_count": 165,
   "metadata": {
    "id": "U9xNKvh0HD-X",
    "tags": []
   },
   "outputs": [],
   "source": [
    "import numpy as np\n",
    "# encoded every nth sentence\n",
    "encode_every = 10\n",
    "\n",
    "try:\n",
    "    with open('wikisent10.npz', 'rb') as f:\n",
    "        vects = np.load(f)\n",
    "  \n",
    "    with open('wikisent10.txt', 'rt') as f:\n",
    "        sentences = f.readlines()\n",
    "\n",
    "except FileNotFoundError:\n",
    "    import gzip\n",
    "    from sentence_transformers import SentenceTransformer\n",
    "    model = SentenceTransformer('all-MiniLM-L6-v2')\n",
    "\n",
    "    vects = []\n",
    "    sentences = []\n",
    "\n",
    "    with gzip.open('wikisent2.txt.gz', 'rt') as f:\n",
    "        for idx, line in enumerate(f):\n",
    "            if idx % encode_every == 0:\n",
    "                # print(idx, str(line))\n",
    "                vects.append(model.encode(line))\n",
    "                sentences.append(line)\n",
    "                \n",
    "            if idx % 1000 == 0:\n",
    "                print(idx)\n",
    "\n",
    "    with open('wikisent10.npz', 'wb') as f:\n",
    "        np.save(f, vects)\n",
    "\n",
    "    with open('wikisent10.txt', 'wt') as f:\n",
    "        f.writelines(sentences)"
   ]
  },
  {
   "cell_type": "code",
   "execution_count": 166,
   "metadata": {
    "colab": {
     "base_uri": "https://localhost:8080/"
    },
    "id": "MjL2uxbQN1we",
    "outputId": "bc13d743-7e8a-4c46-9240-9efbec952d88",
    "tags": []
   },
   "outputs": [
    {
     "data": {
      "text/plain": [
       "(787183, 384)"
      ]
     },
     "execution_count": 166,
     "metadata": {},
     "output_type": "execute_result"
    }
   ],
   "source": [
    "import numpy as np\n",
    "\n",
    "vects = np.stack(vects)\n",
    "vects.shape"
   ]
  },
  {
   "cell_type": "code",
   "execution_count": 167,
   "metadata": {
    "id": "g_qfDbyIWHwL",
    "tags": []
   },
   "outputs": [],
   "source": [
    "all_normed = (np.linalg.norm(vects, axis=1) > 0.99) & (np.linalg.norm(vects, axis=1) < 1.01)\n",
    "assert all_normed.all(), \"Normalization of the vectors failed!\""
   ]
  },
  {
   "cell_type": "code",
   "execution_count": 168,
   "metadata": {
    "colab": {
     "base_uri": "https://localhost:8080/"
    },
    "id": "OU0lj59LOjSA",
    "outputId": "e9a1792e-49de-45ee-91dd-75adbc103bfe",
    "tags": []
   },
   "outputs": [
    {
     "data": {
      "text/plain": [
       "('10 in the UK Singles chart, however it was a bigger hit for Amazulu in 1986 from their album Amazulu.\\n',\n",
       " array([-1.65669695e-02, -5.89489937e-03, -2.46185139e-02,  3.49459201e-02,\n",
       "        -5.96193708e-02,  4.54125032e-02,  1.43240886e-02,  1.26762286e-01,\n",
       "        -1.63968687e-03, -5.66748949e-03,  2.10027415e-02, -2.02863980e-02,\n",
       "         8.11159387e-02, -2.67713349e-02, -2.89963521e-02,  8.08742493e-02,\n",
       "        -8.47459882e-02, -6.14119321e-02, -5.81718162e-02, -1.00160554e-01,\n",
       "         3.72661687e-02,  3.74510232e-03,  3.22895274e-02, -2.68099103e-02,\n",
       "         2.89040431e-02, -5.74016534e-02, -6.42961562e-02, -3.60523909e-02,\n",
       "         1.64815579e-02,  1.49551164e-02,  5.87281212e-03,  8.31465349e-02,\n",
       "         3.00437957e-02, -9.65476856e-02, -1.39308292e-02, -9.16170850e-02,\n",
       "         3.82585377e-02, -5.17641939e-02,  3.13696228e-02, -1.28319385e-02,\n",
       "         5.40856160e-02,  1.58545915e-02,  3.15750134e-03, -9.86583158e-02,\n",
       "         3.50489616e-02, -3.42526808e-02, -7.54494891e-02,  5.40195731e-03,\n",
       "         1.08636944e-02,  3.58503871e-02, -5.12827002e-02,  4.75302748e-02,\n",
       "        -4.28857692e-02,  2.90222950e-02,  3.45425941e-02, -9.45081934e-02,\n",
       "        -5.82239404e-02, -5.10775857e-02,  6.79374766e-03,  3.12737040e-02,\n",
       "        -1.21326745e-02,  6.39964864e-02, -6.03170192e-04, -1.86544899e-02,\n",
       "        -4.38595936e-02, -4.48968560e-02, -5.03042527e-02, -4.56723310e-02,\n",
       "        -3.88820246e-02,  9.76456776e-02,  4.98377904e-02, -1.08572207e-02,\n",
       "        -1.23819811e-02,  1.77079812e-02, -6.32230565e-02, -8.91328382e-04,\n",
       "        -3.09321545e-02, -8.06211829e-02, -7.71926716e-02,  1.15840905e-03,\n",
       "         5.70799410e-03, -2.44986285e-02,  1.10799842e-01, -1.00481570e-01,\n",
       "        -3.70024964e-02, -6.60291389e-02,  1.69017538e-02,  1.63380112e-02,\n",
       "        -4.48973998e-02,  1.76539905e-02,  5.24622155e-03, -7.35982554e-03,\n",
       "        -3.86976711e-02,  4.75805365e-02,  8.07852522e-02, -7.72849023e-02,\n",
       "         4.74554151e-02,  3.56461294e-03, -3.29342224e-02,  1.83451399e-02,\n",
       "         7.44874477e-02,  5.02355285e-02,  3.32825705e-02,  2.96837315e-02,\n",
       "        -4.00445089e-02, -3.19408774e-02,  1.23655282e-01,  5.03110178e-02,\n",
       "         1.14232339e-02, -7.30997398e-02, -1.41741820e-02, -2.18068603e-02,\n",
       "        -2.17640232e-02, -3.27102677e-03,  1.12368278e-02, -3.04835774e-02,\n",
       "         5.22081219e-02,  1.12647831e-01,  1.01561537e-02,  4.49409559e-02,\n",
       "         2.22267173e-02, -5.16987406e-02,  5.03606498e-02, -2.90657091e-03,\n",
       "        -3.85693461e-02,  1.40130259e-02,  8.96656886e-03, -1.68615995e-33,\n",
       "         3.75624150e-02, -3.76418047e-02,  1.33473156e-02, -1.57127026e-02,\n",
       "         5.23187667e-02, -4.98966388e-02, -4.09014001e-02,  6.32211268e-02,\n",
       "        -2.09304243e-02,  7.41070360e-02, -1.94406081e-02,  1.75891444e-02,\n",
       "         4.42965478e-02, -3.12306434e-02,  8.42659548e-02,  1.75753701e-02,\n",
       "         3.64709459e-02,  2.35083662e-02, -2.14092154e-02,  8.74441769e-03,\n",
       "         3.79511006e-02,  2.13573240e-02,  1.78288184e-02, -3.83012667e-02,\n",
       "        -4.37717848e-02,  3.78558822e-02, -2.78292247e-03,  1.33680841e-02,\n",
       "        -3.44094150e-02, -6.56774873e-03,  1.86594650e-02,  2.91926228e-02,\n",
       "        -7.55814537e-02,  3.97432148e-02, -9.05341804e-02,  6.48854747e-02,\n",
       "        -1.17353899e-02, -1.82641996e-03,  2.26713177e-02, -1.00464197e-02,\n",
       "         3.20676826e-02, -2.16259174e-02, -8.22438113e-03, -7.75698647e-02,\n",
       "        -1.26363998e-02,  5.16647510e-02, -1.04817078e-01, -6.66762143e-02,\n",
       "         6.65228814e-02,  8.28307238e-04, -5.78729399e-02,  4.16378491e-02,\n",
       "        -7.21562803e-02,  6.21207878e-02,  2.42923684e-02,  1.90849567e-03,\n",
       "         2.24917941e-02,  5.91157302e-02,  6.35523796e-02,  5.70916645e-02,\n",
       "         6.80809990e-02, -6.23983108e-02,  4.52157371e-02, -6.74631149e-02,\n",
       "        -6.25107932e-05,  1.05010785e-01, -2.15031542e-02, -4.73334566e-02,\n",
       "        -2.90492550e-02,  7.99037665e-02,  2.25001462e-02, -1.20209979e-05,\n",
       "        -5.79721108e-02, -1.20095037e-01,  8.83846134e-02, -7.55662620e-02,\n",
       "         1.19180290e-03, -4.89410535e-02,  1.43936798e-02,  5.52671850e-02,\n",
       "         1.03110196e-02,  8.59877840e-02,  4.05272841e-02,  2.12036930e-02,\n",
       "         7.66423419e-02, -1.59499757e-02, -1.58537161e-02,  1.38936132e-01,\n",
       "        -3.84407900e-02,  3.82855395e-03,  5.95488511e-02,  3.69194220e-03,\n",
       "        -2.50134133e-02, -7.01948553e-02, -2.81423703e-02, -6.68535137e-34,\n",
       "         2.18707672e-03,  1.01948902e-01,  5.79696940e-03, -9.34416428e-03,\n",
       "         9.12415534e-02,  3.72688361e-02,  5.96743710e-02,  1.67656958e-01,\n",
       "         3.18278335e-02,  1.79881677e-02,  5.02100550e-02,  3.55622079e-03,\n",
       "         1.80588476e-02, -2.04779208e-02, -3.71217243e-02,  2.98964530e-02,\n",
       "        -3.18482891e-02, -7.90849142e-03,  5.15218005e-02, -5.37293730e-03,\n",
       "        -1.63841903e-01, -7.19559267e-02,  1.34408504e-01,  3.65972258e-02,\n",
       "        -3.54389139e-02,  1.09604020e-02,  3.27895097e-02, -1.10315070e-01,\n",
       "        -3.49337496e-02, -2.32737679e-02,  4.13924316e-03, -1.33480653e-02,\n",
       "        -4.45851423e-02, -1.89094599e-02, -7.35123232e-02, -4.97590285e-03,\n",
       "        -2.60839984e-03, -6.27977997e-02, -7.19804838e-02,  6.06966056e-02,\n",
       "        -5.93957938e-02,  2.02144478e-02, -7.49387965e-03,  4.41730134e-02,\n",
       "         2.11430117e-02, -1.85731072e-02, -6.16210625e-02,  3.18756849e-02,\n",
       "        -9.87337995e-03, -7.67257214e-02,  6.47219941e-02,  3.61053646e-02,\n",
       "         3.14739463e-03, -7.56940106e-03, -2.72703841e-02, -4.55076657e-02,\n",
       "        -2.95320489e-02, -1.39376251e-02, -2.09861193e-02,  1.70773417e-02,\n",
       "        -1.61270914e-03,  1.67958625e-02, -1.40423318e-02, -4.35885042e-02,\n",
       "        -5.21914177e-02,  5.48136272e-02,  1.25617012e-01, -1.63883471e-03,\n",
       "        -1.13004215e-01,  4.35702913e-02,  2.57452193e-04, -5.39613105e-02,\n",
       "         3.56421713e-03,  2.05827188e-02, -6.04782887e-02,  1.14740329e-02,\n",
       "        -3.38963494e-02, -3.31173167e-02, -7.38641759e-03, -1.07768230e-01,\n",
       "        -2.95924372e-03, -3.03947870e-02, -4.83138561e-02,  9.20235272e-03,\n",
       "        -8.08720961e-02, -1.28188366e-02,  7.79045671e-02, -1.01537704e-02,\n",
       "        -6.90543209e-04,  8.59253854e-02,  4.18829210e-02,  6.96953237e-02,\n",
       "         7.65098864e-03, -4.14907187e-02, -3.55612002e-02, -2.41386182e-08,\n",
       "        -1.75678339e-02,  2.98844315e-02, -4.75250855e-02,  3.54502164e-02,\n",
       "         5.08406721e-02,  7.87755251e-02, -2.93873791e-02,  3.19986269e-02,\n",
       "         7.22385049e-02,  5.79712614e-02,  5.49811721e-02, -1.40733169e-02,\n",
       "        -8.00579600e-03,  5.38896732e-02, -8.80946442e-02, -5.12524024e-02,\n",
       "         3.60309705e-03,  1.10451085e-02,  8.02580565e-02,  6.31671101e-02,\n",
       "        -2.17286758e-02,  8.02402049e-02,  7.13810474e-02, -1.53170481e-01,\n",
       "         2.42159106e-02, -3.93115096e-02, -7.75521109e-03,  2.55961833e-03,\n",
       "        -8.67502019e-02, -8.57167765e-02,  3.77199836e-02, -1.77956582e-03,\n",
       "        -2.83341259e-02,  1.27374381e-02,  2.12593116e-02, -1.31273186e-02,\n",
       "         1.49286026e-02, -3.75385769e-02, -7.62598887e-02, -1.06820069e-01,\n",
       "         2.73824409e-02, -2.96216272e-02,  9.53536630e-02,  1.73968507e-03,\n",
       "         1.03284530e-02,  9.81587451e-03, -4.56076525e-02, -5.10215946e-02,\n",
       "         1.45051898e-02, -1.03285678e-01, -3.08992956e-02, -1.24580180e-02,\n",
       "         1.96289830e-02,  7.25505129e-03,  3.09605561e-02, -7.88613036e-03,\n",
       "        -1.99966114e-02, -7.12300837e-03,  1.63349025e-02,  1.12872729e-02,\n",
       "         7.27860630e-02, -1.01506054e-01, -4.62167002e-02,  1.34720095e-03],\n",
       "       dtype=float32))"
      ]
     },
     "execution_count": 168,
     "metadata": {},
     "output_type": "execute_result"
    }
   ],
   "source": [
    "query_vector = vects[100]\n",
    "query_sentence = sentences[100]\n",
    "query_sentence, query_vector"
   ]
  },
  {
   "cell_type": "code",
   "execution_count": 169,
   "metadata": {
    "id": "yZQR7b5cYANS",
    "tags": []
   },
   "outputs": [],
   "source": [
    "assert (np.linalg.norm(query_vector) > 0.99) & (np.linalg.norm(query_vector) < 1.01), \"Normalization failed on query vector\""
   ]
  },
  {
   "cell_type": "markdown",
   "metadata": {
    "id": "ZqGVppejQPHv"
   },
   "source": [
    "## Numpy cosine similarity"
   ]
  },
  {
   "cell_type": "code",
   "execution_count": 107,
   "metadata": {
    "colab": {
     "base_uri": "https://localhost:8080/"
    },
    "id": "K7OxGt9UQOgO",
    "outputId": "44765c9d-e5a1-4bcd-eee1-104469176194",
    "tags": []
   },
   "outputs": [
    {
     "name": "stdout",
     "output_type": "stream",
     "text": [
      "100 0.99999994 1983 All-Ireland Minor Hurling Championship was the 53rd staging of the All-Ireland Minor Hurling Championship since its establishment by the Gaelic Athletic Association in 1928.\n",
      "\n",
      "2535 0.92466676 All-Ireland Minor Hurling Championship was the 16th staging of the All-Ireland Minor Hurling Championship since its establishment by the Gaelic Athletic Association in 1928.\n",
      "\n",
      "2537 0.7731979 All-Ireland Senior Hurling Championship Final was the 40th All-Ireland Final and the culmination of the 1927 All-Ireland Senior Hurling Championship, an inter-county hurling tournament for the top teams in Ireland.\n",
      "\n",
      "53752 0.7037497 The 1999 All-Ireland Intermediate Hurling Championship was the 16th staging of the All-Ireland hurling championship.\n",
      "\n",
      "53785 0.68757546 The 2001 Cork Junior Hurling Championship was the 105th staging of the Cork Junior Hurling Championship since its establishment by the Cork County Board in 1895.\n",
      "\n",
      "53777 0.681895 The 2000 Cork Junior Hurling Championship was the 104th staging of the Cork Junior Hurling Championship since its establishment by the Cork County Board in 1895.\n",
      "\n",
      "26479 0.6660706 In hurling, it competes in the Kilkenny Junior Hurling Championship.\n",
      "\n",
      "119 0.6620858 1998 All-Ireland Under-21 Hurling Championship final was a hurling match that was played at Semple Stadium, Thurles on 20 September 1998 to determine the winners of the 1998 All-Ireland Under-21 Hurling Championship, the 35th season of the All-Ireland Under-21 Hurling Championship, a tournament organized by the Gaelic Athletic Association for the champion teams of the four provinces of Ireland.\n",
      "\n",
      "53743 0.6105157 The 1997 National Hurling League (known as the Church & General National Hurling League for sponsorship reasons) was the 66th seasons of the National Hurling League.\n",
      "\n",
      "2536 0.6093572 All-Ireland Senior Football Championship final was a Gaelic football match played at Croke Park on 22 September 1957 to determine the winners of the 1957 All-Ireland Senior Football Championship, the 71st season of the All-Ireland Senior Football Championship, a tournament organized by the Gaelic Athletic Association for the champions of the four provinces of Ireland.\n",
      "\n"
     ]
    }
   ],
   "source": [
    "# def cosine_similarity(query_vector, vectors, n=100):\n",
    "#     \"\"\" nth nearest neighbors as array\n",
    "#         with indices of nearest neighbors\"\"\"\n",
    "\n",
    "#     dotted = np.dot(normed, query_normed)\n",
    "#     dotted = np.divide(dotted, normed)\n",
    "#     # top_n = np.argpartition(-nn, n)[:n]\n",
    "#     # return top_n, nn[top_n]\n",
    "#     return dotted\n",
    "  \n",
    "nn = np.dot(vects, query_vector)\n",
    "top_n = np.argpartition(-nn, 10)[:10]\n",
    "top_n = top_n[nn[top_n].argsort()[::-1]]\n",
    "\n",
    "# Confirm sorting\n",
    "assert (sorted(nn[top_n], reverse=True) == nn[top_n]).all()\n",
    "for idx in top_n:\n",
    "    print(idx, nn[idx], sentences[idx])"
   ]
  },
  {
   "cell_type": "markdown",
   "metadata": {
    "id": "8AN-NuOiua_I"
   },
   "source": [
    "## Zipfian nearest neighbors algorithm\n",
    "\n",
    "1. Randomly draw x in 1..N\n",
    "2. Find the zipfian probability of x\n",
    "3. Find an arbitrary part of the vector space as the centroid\n",
    "4. Scale the radius to zipfian probability of x\n",
    "5. Assign every vector within radius to this region"
   ]
  },
  {
   "cell_type": "code",
   "execution_count": 170,
   "metadata": {
    "colab": {
     "base_uri": "https://localhost:8080/",
     "height": 265
    },
    "id": "DilwXSDFuaRm",
    "outputId": "e19bbff8-2239-47ab-9cc5-cb8689c0649a",
    "tags": []
   },
   "outputs": [
    {
     "data": {
      "image/png": "[encoded data removed]",
      "text/plain": [
       "<Figure size 640x480 with 1 Axes>"
      ]
     },
     "metadata": {},
     "output_type": "display_data"
    }
   ],
   "source": [
    "# Randomly draw 1..32000, \n",
    "from scipy.stats import zipfian\n",
    "import matplotlib.pyplot as plt\n",
    "fig, ax = plt.subplots(1, 1)\n",
    "\n",
    "a, n = 1.001, 10\n",
    "\n",
    "x = np.arange(zipfian.ppf(0.0001, a, n),\n",
    "              zipfian.ppf(0.99999999999, a, n))\n",
    "\n",
    "ax.plot(x, zipfian.pmf(x, a, n), 'bo', ms=8, label='zipfian pmf');\n",
    "ax.vlines(x, 0, zipfian.pmf(x, a, n), colors='b', lw=5, alpha=0.5);"
   ]
  },
  {
   "cell_type": "markdown",
   "metadata": {
    "id": "p67emh8S_0rP"
   },
   "source": [
    "## Use actual terms corresponding to zipfian location\n",
    "\n",
    "For a bit of flare, and to play well with a full text search engine, lets use terms actually corresponding to zipfian distribution of terms."
   ]
  },
  {
   "cell_type": "code",
   "execution_count": 171,
   "metadata": {
    "id": "AFTNxamrwv3i",
    "tags": []
   },
   "outputs": [],
   "source": [
    "terms = []\n",
    "with open('wiki-100k.txt') as f:\n",
    "    for line in f:\n",
    "        if not line[0] == \"#\":\n",
    "            terms.append(line.strip().lower())\n",
    "  \n",
    "terms[:10]\n",
    "\n",
    "def term_at(ordinal):\n",
    "    try:\n",
    "        return terms[ordinal]\n",
    "    except IndexError:\n",
    "        return f\"term_{ordinal}\""
   ]
  },
  {
   "cell_type": "code",
   "execution_count": 172,
   "metadata": {
    "colab": {
     "base_uri": "https://localhost:8080/"
    },
    "id": "ytgqQlzkXGWd",
    "outputId": "382995df-1c62-457e-8637-60ebd583af6f",
    "tags": []
   },
   "outputs": [
    {
     "data": {
      "text/plain": [
       "['the', 'of', 'and', 'to', 'a', 'in', 'that', 'i', 'was', 'he']"
      ]
     },
     "execution_count": 172,
     "metadata": {},
     "output_type": "execute_result"
    }
   ],
   "source": [
    "terms[:10]"
   ]
  },
  {
   "cell_type": "markdown",
   "metadata": {
    "id": "XrX4iRZjAbrf"
   },
   "source": [
    "## Define a specificity function or `radius`\n",
    "\n",
    "Define a function that lets us compute the specificity of a randomly chosen term. With a minimum number of documents.\n",
    "\n",
    "Specificity is defined by the zipfian probability distribution. A zipfian of 1 will be close to probability of 1 (`the` occurs in every document). This is a vector and radius encompassing all of the vectors being indexed. A zipfian closer to max_vects will have a floor of matching at least min_vects close to the chosen centroid."
   ]
  },
  {
   "cell_type": "code",
   "execution_count": 339,
   "metadata": {
    "colab": {
     "base_uri": "https://localhost:8080/"
    },
    "id": "PJfobHaZxtAS",
    "outputId": "3035b5ee-e7c7-4575-ffc2-8e4de41e1d51",
    "tags": []
   },
   "outputs": [
    {
     "data": {
      "text/plain": [
       "0.25"
      ]
     },
     "execution_count": 339,
     "metadata": {},
     "output_type": "execute_result"
    }
   ],
   "source": [
    "num_terms = len(terms)\n",
    "from math import log\n",
    "num_vectors = len(vects)\n",
    "\n",
    "def radius(ordinal, a=1.1):\n",
    "    \"\"\"Keep all vectors of cos similarity.\"\"\"\n",
    "    probability = zipfian.pmf(ordinal, a, ordinal)\n",
    "    # Make this a bit more mathematically robust,\n",
    "    # this ranges from -1 to 0.2\n",
    "    # Scale from -0.2 to 0.2\n",
    "    return 0.25\n",
    "    return -((probability * 0.4) - 0.2)\n",
    "\n",
    "\n",
    "\n",
    "specificity = radius(10)\n",
    "specificity"
   ]
  },
  {
   "cell_type": "markdown",
   "metadata": {
    "id": "6mpdRJRRBCkn"
   },
   "source": [
    "## Run the algorithm\n",
    "\n",
    "1. Draw a random term ordinal\n",
    "2. Find its specificity"
   ]
  },
  {
   "cell_type": "code",
   "execution_count": 340,
   "metadata": {
    "colab": {
     "base_uri": "https://localhost:8080/"
    },
    "id": "sMi03Snq6830",
    "outputId": "01e218e6-bcdd-4104-9ae1-57e1f5f6d156",
    "tags": []
   },
   "outputs": [
    {
     "data": {
      "text/plain": [
       "(0.25, 91971, \"markham's\")"
      ]
     },
     "execution_count": 340,
     "metadata": {},
     "output_type": "execute_result"
    }
   ],
   "source": [
    "psuedo_docs = {}\n",
    "term_ordinal = np.random.choice(num_terms)\n",
    "specificity = radius(term_ordinal)\n",
    "term = term_at(term_ordinal)\n",
    "specificity, term_ordinal, term"
   ]
  },
  {
   "cell_type": "markdown",
   "metadata": {
    "id": "-YAtweEwBU1a"
   },
   "source": [
    "## Choose a random vector"
   ]
  },
  {
   "cell_type": "code",
   "execution_count": 341,
   "metadata": {
    "colab": {
     "base_uri": "https://localhost:8080/"
    },
    "id": "hAtGpC_zygRO",
    "outputId": "d4add6d8-54c2-4d7a-c2f4-0a7cadb61a03",
    "tags": []
   },
   "outputs": [
    {
     "data": {
      "text/plain": [
       "array([ 2.91597787e-02, -7.99298361e-02,  3.00034117e-02, -3.60662229e-02,\n",
       "       -2.92981882e-02,  7.46293813e-02, -1.02937214e-01, -1.37860430e-02,\n",
       "       -7.10703339e-03, -3.28483875e-05, -3.79858129e-02, -5.14875539e-02,\n",
       "       -1.05719142e-01, -2.10369360e-02, -3.70543450e-02,  2.31566709e-02,\n",
       "        3.53991836e-02,  4.68087420e-02, -5.13439216e-02,  1.79782026e-02,\n",
       "        2.02267990e-02, -1.70046855e-02,  3.78207155e-02,  6.83886334e-02,\n",
       "        2.24799588e-02,  2.67461501e-02, -4.12822329e-02, -2.71987114e-02,\n",
       "       -2.90968101e-02,  2.73936149e-02, -4.24317569e-02, -1.27183780e-01,\n",
       "       -2.09757797e-02,  8.57990421e-03,  2.03365483e-03,  2.87608076e-02,\n",
       "       -4.20561358e-02, -2.50550732e-02,  3.62731256e-02,  6.44478127e-02,\n",
       "        2.09630132e-02, -1.09597959e-01, -8.08249861e-02,  2.76805330e-02,\n",
       "       -5.07117016e-03, -4.71939705e-03, -8.86809826e-02, -2.02392694e-03,\n",
       "        1.47901420e-02, -9.06967372e-02, -3.92600223e-02, -4.78372127e-02,\n",
       "        7.74129061e-04, -2.46599354e-02,  3.26989987e-03,  2.44232267e-02,\n",
       "       -3.69852223e-02,  3.17858867e-02,  3.31376120e-02, -7.71071613e-02,\n",
       "        4.91516665e-02,  1.99804753e-02, -6.33796901e-02,  3.15224975e-02,\n",
       "        1.34068383e-02, -5.77811785e-02, -5.52376658e-02, -6.17571399e-02,\n",
       "        2.13252362e-02,  2.46446710e-02,  9.27487388e-02,  6.23387545e-02,\n",
       "        4.48925495e-02, -2.96971463e-02,  7.00089112e-02,  7.30091631e-02,\n",
       "        1.01281859e-01,  9.52380225e-02, -3.45191127e-03,  2.87149232e-02,\n",
       "       -1.94551274e-02, -8.46229941e-02,  4.72179838e-02,  1.25198767e-01,\n",
       "       -1.10973092e-02, -6.55530244e-02, -9.01283696e-02,  2.30716541e-02,\n",
       "       -6.10554777e-02,  1.51450271e-02, -8.82095695e-02,  3.51403430e-02,\n",
       "       -3.51949222e-02,  3.64235453e-02, -1.35249924e-02,  3.25360969e-02,\n",
       "       -4.75194231e-02,  3.94740812e-02,  5.79427034e-02,  7.86476675e-03,\n",
       "       -7.09369108e-02,  8.94369185e-02,  7.52872508e-03,  1.22602265e-02,\n",
       "        5.06615192e-02, -3.83503139e-02,  5.67548983e-02, -2.49162298e-02,\n",
       "        4.20200787e-02, -2.80889627e-02,  8.67544413e-02, -4.59369011e-02,\n",
       "        3.87407430e-02,  3.96121219e-02,  3.11969891e-02,  1.08925804e-01,\n",
       "        2.30699149e-03,  5.06200343e-02,  6.88711554e-02,  3.48565280e-02,\n",
       "       -1.87810101e-02,  8.52919475e-04,  4.08365279e-02, -1.00857764e-01,\n",
       "       -4.24719928e-03, -5.88753112e-02,  5.88783994e-02, -4.11040142e-33,\n",
       "       -2.97959466e-02, -7.83571452e-02,  6.42944127e-02, -8.90829973e-03,\n",
       "       -9.43718199e-03, -1.24875372e-02, -9.70887467e-02, -8.23345035e-02,\n",
       "       -6.22165985e-02, -3.04679796e-02, -5.64405583e-02, -4.07698750e-02,\n",
       "       -2.57372018e-02, -6.65361360e-02,  6.97163120e-02,  6.65351152e-02,\n",
       "       -2.38770107e-03,  9.27909184e-03, -9.59456116e-02,  1.23842537e-01,\n",
       "        1.39199376e-01, -2.60019284e-02, -5.37829148e-03,  4.23726179e-02,\n",
       "       -3.95759903e-02, -2.16912273e-02,  1.43050402e-01, -2.98684482e-02,\n",
       "       -2.22314633e-02,  2.64100190e-02, -5.60849048e-02, -1.04536079e-02,\n",
       "       -6.83991378e-03, -1.05130076e-02, -2.54236721e-02, -1.74203683e-02,\n",
       "       -1.05997724e-02,  2.03976248e-04,  3.82423028e-02,  4.26961780e-02,\n",
       "       -3.26307602e-02, -5.06203026e-02,  4.08149213e-02, -3.09808902e-03,\n",
       "       -1.09039381e-01, -2.24609450e-02,  6.63575828e-02,  3.56296487e-02,\n",
       "        1.26110077e-01,  3.03285718e-02,  2.47939043e-02,  6.16882415e-03,\n",
       "        2.30808202e-02,  4.97024171e-02,  4.51911651e-02, -1.79014709e-02,\n",
       "       -2.28284523e-02, -3.80169065e-03,  3.64337116e-02, -4.18235140e-04,\n",
       "       -5.33446521e-02,  2.97615100e-02, -2.37167329e-02,  6.79291040e-02,\n",
       "       -1.10827118e-01, -4.79113497e-02,  5.08553199e-02, -6.61544278e-02,\n",
       "        1.42834838e-02, -7.07495213e-03, -2.32340526e-02, -1.74051970e-02,\n",
       "        6.30066078e-03,  2.19955202e-02, -1.52205937e-02,  2.55291350e-02,\n",
       "        1.02461942e-01, -1.13197183e-02,  4.77843285e-02, -3.77635136e-02,\n",
       "        4.02390212e-02,  5.40847844e-03,  3.94306667e-02,  1.48650529e-02,\n",
       "       -3.80327702e-02, -8.96619447e-03,  1.77519377e-02, -3.42125371e-02,\n",
       "        1.89111531e-02, -3.55209000e-02,  5.03062680e-02, -2.51002200e-02,\n",
       "       -4.74173687e-02,  8.35487340e-03, -1.11646704e-01,  2.95898395e-33,\n",
       "        1.07786417e-01,  1.14743756e-02,  5.97170517e-02, -6.91347793e-02,\n",
       "        5.36599755e-02, -8.53874628e-03,  2.69941203e-02,  2.22392529e-02,\n",
       "        5.64948469e-02,  3.39074023e-02,  7.72846490e-02, -4.78929691e-02,\n",
       "        8.07109401e-02,  4.63650897e-02,  9.53462347e-03,  4.09526713e-02,\n",
       "        4.79768664e-02, -7.25341514e-02, -5.95370401e-03, -1.14257142e-01,\n",
       "        4.12823372e-02, -3.98013294e-02, -5.78072481e-02,  2.69803568e-04,\n",
       "       -5.98196452e-03,  3.13969702e-02, -1.03649520e-03, -6.06093230e-03,\n",
       "       -1.41583532e-01, -9.21459496e-02,  5.08441292e-02, -2.50559635e-02,\n",
       "       -3.59190372e-03, -2.71363147e-02,  2.44714599e-02,  1.09985672e-01,\n",
       "       -1.40085658e-02, -3.07987556e-02,  4.47035171e-02,  2.75387540e-02,\n",
       "        1.05442435e-01, -1.93818081e-02,  5.31340130e-02,  8.63416940e-02,\n",
       "        4.45538685e-02,  5.00794910e-02,  9.83291306e-03,  4.78845313e-02,\n",
       "       -1.23462286e-02,  1.68557260e-02, -2.82756332e-02, -3.49213704e-02,\n",
       "       -2.42177136e-02,  1.22251652e-01,  6.33979142e-02, -4.74200323e-02,\n",
       "       -6.11546822e-02, -1.73239317e-02, -7.68135814e-03, -2.03761831e-02,\n",
       "        8.62451328e-04, -7.02871457e-02,  2.23262049e-02, -6.05257191e-02,\n",
       "       -5.80331869e-03, -3.70525196e-02,  1.78263411e-02, -2.41005495e-02,\n",
       "       -2.43013296e-02,  1.04417875e-01, -3.91061865e-02,  1.42210186e-01,\n",
       "       -5.61683215e-02,  3.38012092e-02, -1.87194056e-03,  5.54545671e-02,\n",
       "       -2.68719755e-02,  1.58362146e-02,  1.43785030e-02,  5.93481436e-02,\n",
       "       -4.97626364e-02,  5.48841245e-02, -1.08147180e-02, -1.49843656e-03,\n",
       "        3.63660380e-02, -1.30512277e-02,  6.57318383e-02, -1.13886967e-02,\n",
       "       -5.54007478e-02, -3.88561636e-02,  5.21997549e-03,  3.32151470e-03,\n",
       "       -1.55458860e-02,  2.85508987e-02, -4.79083620e-02, -1.60844369e-08,\n",
       "        6.25913069e-02,  1.34889692e-01, -6.47913814e-02, -3.45124789e-02,\n",
       "        4.04649302e-02,  4.35029864e-02, -4.95745894e-03,  6.84500188e-02,\n",
       "       -7.25522563e-02, -2.73116375e-03,  4.03573737e-02, -4.49164435e-02,\n",
       "        8.53963383e-03, -1.85459275e-02,  3.49378362e-02, -7.48829800e-04,\n",
       "        2.55503170e-02,  8.44073817e-02,  2.15919875e-02, -2.18164697e-02,\n",
       "       -2.99335197e-02,  2.69424785e-02, -2.66390783e-03, -3.63734812e-02,\n",
       "        1.88489091e-02,  1.67213734e-02, -1.70441400e-02,  1.22842835e-02,\n",
       "       -9.19104442e-02,  7.75455218e-03,  2.69381050e-02, -1.89316366e-02,\n",
       "        1.42498119e-02, -2.88090687e-02, -9.92050469e-02,  2.80794688e-02,\n",
       "       -2.38210727e-02,  4.22501825e-02, -6.38462082e-02, -6.46770047e-03,\n",
       "        3.48019637e-02, -2.86667957e-03, -3.51398513e-02,  5.99053837e-02,\n",
       "        1.52270924e-02, -8.59823525e-02, -1.17242383e-02,  2.18318347e-02,\n",
       "        1.81878190e-02, -8.51560682e-02, -4.48254719e-02, -6.45161346e-02,\n",
       "       -1.07250679e-02,  3.81444246e-02, -1.03948116e-02,  4.65890542e-02,\n",
       "       -5.89644611e-02, -5.42433262e-02, -5.82826324e-02,  4.29535247e-02,\n",
       "       -5.90429362e-03, -6.37946129e-02, -3.31318774e-03,  1.00842386e-01],\n",
       "      dtype=float32)"
      ]
     },
     "execution_count": 341,
     "metadata": {},
     "output_type": "execute_result"
    }
   ],
   "source": [
    "random_vect = vects[np.random.choice(num_vectors)]\n",
    "random_vect"
   ]
  },
  {
   "cell_type": "markdown",
   "metadata": {
    "id": "X5i_5-SuBdpg"
   },
   "source": [
    "## Compute most similar, within the 'radius' of the selected specificity\n",
    "\n",
    "1. Take dot product for cosine similarity\n",
    "2. Get top N above threshold"
   ]
  },
  {
   "cell_type": "code",
   "execution_count": 342,
   "metadata": {
    "colab": {
     "base_uri": "https://localhost:8080/"
    },
    "id": "jurZ4np904wM",
    "outputId": "71c4a765-3cd1-499f-ed10-243d3963e816",
    "tags": []
   },
   "outputs": [
    {
     "data": {
      "text/plain": [
       "[(60442, 0.99999994),\n",
       " (494086, 0.69436383),\n",
       " (184749, 0.6760327),\n",
       " (668672, 0.67161804),\n",
       " (209791, 0.66237557),\n",
       " (668675, 0.6508068),\n",
       " (184730, 0.6489823),\n",
       " (494639, 0.64784807),\n",
       " (496341, 0.6463667),\n",
       " (500756, 0.63914675)]"
      ]
     },
     "execution_count": 342,
     "metadata": {},
     "output_type": "execute_result"
    }
   ],
   "source": [
    "def most_similar_at_specificity(centroid, specificity):\n",
    "\n",
    "    nn = np.dot(vects, centroid)\n",
    "    nn_above_thresh = nn.copy()\n",
    "    nn_above_thresh[nn_above_thresh >= specificity] = nn_above_thresh[nn_above_thresh >= specificity]\n",
    "    nn_above_thresh[nn_above_thresh < specificity] = 0\n",
    "\n",
    "    vectors_above_thresh = np.argwhere(nn_above_thresh)[:, 0]\n",
    "    return sorted(zip(vectors_above_thresh, nn_above_thresh[vectors_above_thresh]),\n",
    "                key=lambda vect: vect[1],\n",
    "                reverse=True)\n",
    "\n",
    "nn_above_thresh = most_similar_at_specificity(random_vect, specificity)\n",
    "nn_above_thresh[:10]"
   ]
  },
  {
   "cell_type": "markdown",
   "metadata": {
    "id": "LPHbsSnIBuS7"
   },
   "source": [
    "## Label with terms\n",
    "\n",
    "Term X (like `cat`) has a given specificity (lets say 3% of vectors). We have arbitrarilly selected a space where `cat` lives and assigned some 3% of indexed_vectors to it. So all we need to do is update the dictionary with `cat`"
   ]
  },
  {
   "cell_type": "code",
   "execution_count": 343,
   "metadata": {
    "colab": {
     "base_uri": "https://localhost:8080/"
    },
    "id": "QOiXJqdS6fdf",
    "outputId": "34025c0d-04ac-460d-c99b-abd8a272c13b",
    "tags": []
   },
   "outputs": [
    {
     "data": {
      "text/plain": [
       "[(60442,\n",
       "  [\"markham's\",\n",
       "   \"markham's\",\n",
       "   \"markham's\",\n",
       "   \"markham's\",\n",
       "   \"markham's\",\n",
       "   \"markham's\",\n",
       "   \"markham's\",\n",
       "   \"markham's\",\n",
       "   \"markham's\"]),\n",
       " (494086,\n",
       "  [\"markham's\",\n",
       "   \"markham's\",\n",
       "   \"markham's\",\n",
       "   \"markham's\",\n",
       "   \"markham's\",\n",
       "   \"markham's\"]),\n",
       " (184749,\n",
       "  [\"markham's\",\n",
       "   \"markham's\",\n",
       "   \"markham's\",\n",
       "   \"markham's\",\n",
       "   \"markham's\",\n",
       "   \"markham's\"]),\n",
       " (668672,\n",
       "  [\"markham's\",\n",
       "   \"markham's\",\n",
       "   \"markham's\",\n",
       "   \"markham's\",\n",
       "   \"markham's\",\n",
       "   \"markham's\"]),\n",
       " (209791,\n",
       "  [\"markham's\",\n",
       "   \"markham's\",\n",
       "   \"markham's\",\n",
       "   \"markham's\",\n",
       "   \"markham's\",\n",
       "   \"markham's\"]),\n",
       " (668675,\n",
       "  [\"markham's\",\n",
       "   \"markham's\",\n",
       "   \"markham's\",\n",
       "   \"markham's\",\n",
       "   \"markham's\",\n",
       "   \"markham's\"]),\n",
       " (184730,\n",
       "  [\"markham's\",\n",
       "   \"markham's\",\n",
       "   \"markham's\",\n",
       "   \"markham's\",\n",
       "   \"markham's\",\n",
       "   \"markham's\"]),\n",
       " (494639,\n",
       "  [\"markham's\",\n",
       "   \"markham's\",\n",
       "   \"markham's\",\n",
       "   \"markham's\",\n",
       "   \"markham's\",\n",
       "   \"markham's\"]),\n",
       " (496341,\n",
       "  [\"markham's\",\n",
       "   \"markham's\",\n",
       "   \"markham's\",\n",
       "   \"markham's\",\n",
       "   \"markham's\",\n",
       "   \"markham's\"]),\n",
       " (500756,\n",
       "  [\"markham's\",\n",
       "   \"markham's\",\n",
       "   \"markham's\",\n",
       "   \"markham's\",\n",
       "   \"markham's\",\n",
       "   \"markham's\"])]"
      ]
     },
     "execution_count": 343,
     "metadata": {},
     "output_type": "execute_result"
    }
   ],
   "source": [
    "psuedo_docs = {}\n",
    "\n",
    "for vector_ord, sim in nn_above_thresh:\n",
    "    sim = int(sim * 10)\n",
    "    try:\n",
    "        psuedo_docs[vector_ord] = psuedo_docs[vector_ord].extend([term] * sim)\n",
    "    except KeyError:\n",
    "        psuedo_docs[vector_ord] = [term] * sim\n",
    "\n",
    "list(psuedo_docs.items())[:10]"
   ]
  },
  {
   "cell_type": "markdown",
   "metadata": {
    "id": "iWQseT81q5Fu"
   },
   "source": [
    "## Select a centroid based on specificity\n",
    "\n",
    "Less specificic, average more of the space, to ensure more is included"
   ]
  },
  {
   "cell_type": "code",
   "execution_count": 344,
   "metadata": {
    "id": "gk6fAZW-qFuZ",
    "tags": []
   },
   "outputs": [
    {
     "data": {
      "text/plain": [
       "array([-9.06293392e-02,  1.19261732e-02, -7.61917531e-02, -1.42635368e-02,\n",
       "       -3.50325815e-02,  5.44482702e-03,  3.51777487e-02,  5.25707491e-02,\n",
       "       -6.39411900e-03, -8.55034497e-03, -2.62874607e-02, -9.97025636e-04,\n",
       "        3.20825428e-02,  3.25029194e-02, -7.88980909e-03, -1.16719780e-02,\n",
       "       -4.55783643e-02,  2.49791108e-02, -3.48427594e-02, -6.53581098e-02,\n",
       "       -3.55727635e-02,  1.02111965e-01,  1.79974437e-02, -1.12887425e-02,\n",
       "        1.16129667e-02, -2.11977344e-02, -6.95902705e-02,  4.45792302e-02,\n",
       "       -3.19727771e-02, -2.73406152e-02,  7.09351199e-03,  3.10497754e-03,\n",
       "       -1.67216850e-03,  9.65219364e-03, -1.72403753e-02,  8.70355219e-03,\n",
       "       -1.09138619e-02,  4.37625907e-02,  7.74501041e-02, -2.05978844e-02,\n",
       "        1.15726506e-02, -7.47224241e-02,  1.03792911e-02, -1.54504953e-02,\n",
       "       -1.03224181e-01, -3.81244868e-02, -7.84532949e-02,  9.87676065e-03,\n",
       "        8.86006728e-02, -1.97781366e-03, -2.74730045e-02,  2.75032744e-02,\n",
       "       -4.36886176e-02, -1.97419501e-03,  8.01978558e-02,  4.51442860e-02,\n",
       "       -3.48902345e-02, -2.98034493e-02, -3.93704884e-02,  4.09032777e-02,\n",
       "       -2.50028223e-02, -1.78712253e-02, -8.96217674e-02,  1.36981895e-02,\n",
       "       -8.10237154e-02,  1.57226473e-02,  4.97783360e-04, -6.17722124e-02,\n",
       "       -5.05582094e-02, -3.53881270e-02,  4.40092087e-02,  5.95874386e-03,\n",
       "        2.45599635e-02, -1.58123637e-03,  1.05300412e-01,  7.79965445e-02,\n",
       "        3.42140570e-02, -6.69041881e-03, -2.71075196e-03, -8.92470554e-02,\n",
       "       -2.86092367e-02, -4.30756137e-02, -5.72522394e-02,  1.21147148e-01,\n",
       "       -3.34387855e-03,  1.03595657e-02, -1.34429000e-02, -3.95074580e-03,\n",
       "        1.29008738e-04, -3.64893698e-03, -1.03514055e-02, -8.47133249e-02,\n",
       "       -3.44302878e-02, -1.26799405e-01,  5.06454520e-02,  4.41990187e-03,\n",
       "       -6.25357479e-02, -6.46492168e-02, -1.01588309e-01,  3.49914581e-02,\n",
       "       -1.51347341e-02, -5.38274720e-02,  1.24790080e-01, -1.08589930e-02,\n",
       "        5.41147478e-02,  4.29952182e-02,  4.96455980e-03,  6.34704605e-02,\n",
       "       -6.34541363e-02, -7.39258081e-02, -1.21748503e-02,  2.64774505e-02,\n",
       "       -5.25506102e-02,  1.06489629e-01,  5.12325019e-03, -6.07351847e-02,\n",
       "       -4.29434609e-03,  6.70662448e-02, -1.73945762e-02, -6.67682737e-02,\n",
       "        1.59514938e-02, -8.06021225e-03, -1.90519216e-03,  5.35189547e-02,\n",
       "       -9.69911590e-02, -3.43476571e-02,  7.32323602e-02, -4.80562441e-33,\n",
       "        5.33034578e-02, -3.67092043e-02,  3.37522924e-02,  3.19048353e-02,\n",
       "        2.01036371e-02, -3.82665731e-02, -1.35585982e-02,  4.76317182e-02,\n",
       "       -3.01444940e-02, -4.33466071e-03,  4.82491069e-02, -1.50617938e-02,\n",
       "        1.04036011e-01, -1.84094044e-03,  6.75614923e-02,  3.74772440e-04,\n",
       "       -8.31493586e-02, -2.25175116e-02, -6.87270472e-03, -5.31645305e-03,\n",
       "        4.69764695e-03,  1.14258751e-02, -1.31108994e-02, -7.01022847e-03,\n",
       "       -2.43607592e-02,  1.61051787e-02, -9.47988927e-02, -2.46126913e-02,\n",
       "        8.14004149e-03,  2.77830171e-03, -1.30277220e-02,  6.02133460e-02,\n",
       "        6.95851352e-03,  7.69260824e-02,  7.23370090e-02,  4.34529707e-02,\n",
       "       -2.01187693e-02, -4.58481871e-02,  4.44483235e-02,  6.53751269e-02,\n",
       "        3.15497294e-02,  3.19107026e-02,  3.10706086e-02, -1.30987959e-02,\n",
       "       -5.15382402e-02,  2.37519927e-02,  2.09529530e-02, -2.03312542e-02,\n",
       "        3.36206593e-02, -5.03426380e-02,  1.24763079e-01, -5.71317486e-02,\n",
       "       -5.87633699e-02, -4.49758656e-02, -2.18635425e-02,  9.04862303e-03,\n",
       "        2.25246120e-02,  2.06646081e-02,  1.90257225e-02,  4.83757146e-02,\n",
       "        2.68660150e-02, -3.48140523e-02,  9.05897096e-03,  2.69157905e-02,\n",
       "       -1.85177289e-02, -9.42973327e-03,  2.87179016e-02, -6.86003920e-03,\n",
       "       -2.93401536e-02, -1.62965078e-02,  1.27324145e-02,  4.98680025e-03,\n",
       "       -1.79948751e-02, -2.95376945e-02,  1.97692942e-02,  5.85456043e-02,\n",
       "        1.30604142e-02,  3.90859433e-02,  1.87250935e-02, -6.66015595e-02,\n",
       "        3.10418457e-02, -6.03137575e-02,  8.93321633e-02, -1.81444976e-02,\n",
       "       -5.96652701e-02,  4.43383269e-02, -6.87806010e-02,  1.93658769e-02,\n",
       "        3.09800021e-02, -1.83049142e-02,  7.68614635e-02, -1.28612854e-03,\n",
       "       -6.34193793e-02, -8.35263506e-02, -5.08873016e-02,  2.30251288e-34,\n",
       "       -5.39059229e-02, -4.29219864e-02,  1.30183622e-01,  1.06714917e-02,\n",
       "       -3.21591161e-02, -6.34869188e-02,  3.93417478e-03,  4.17078622e-02,\n",
       "        5.85047677e-02, -3.47261317e-02,  9.95136052e-02,  8.84177610e-02,\n",
       "       -4.26432341e-02, -3.19609456e-02,  3.44819538e-02,  7.61055127e-02,\n",
       "       -4.11866009e-02, -6.21206239e-02, -5.66030107e-03, -2.80653164e-02,\n",
       "        5.64171299e-02, -5.21270595e-02,  4.91376743e-02, -7.43186753e-03,\n",
       "        2.52553336e-02,  1.15131063e-03, -5.49525842e-02,  2.81540789e-02,\n",
       "        5.26046343e-02,  6.22875392e-02, -9.99282114e-03, -2.05641072e-02,\n",
       "        4.95914593e-02, -6.08823560e-02,  2.38029305e-02,  2.26115622e-02,\n",
       "        3.46409455e-02,  1.43990457e-01, -2.17909794e-02, -4.26211096e-02,\n",
       "        4.31778282e-02,  2.73926500e-02,  5.48235215e-02, -3.01246941e-02,\n",
       "        4.38253395e-02,  3.02304532e-02,  8.86041205e-03,  6.07708411e-04,\n",
       "       -6.25632480e-02, -1.10020665e-02, -5.59360571e-02,  7.43412524e-02,\n",
       "       -2.89236959e-02,  4.47428599e-02, -2.38602702e-02,  5.77207506e-02,\n",
       "        6.91711009e-02, -4.78377379e-02,  8.93406197e-02, -2.70885471e-02,\n",
       "        2.07276158e-02,  6.43649846e-02, -2.01749038e-02, -3.18047330e-02,\n",
       "        3.18164565e-02,  8.42090696e-02, -4.51473407e-02, -8.41847882e-02,\n",
       "       -1.34951070e-01,  1.37362499e-02, -2.97211669e-02, -6.14960268e-02,\n",
       "        2.85123456e-02, -9.33343470e-02, -1.15960665e-01,  7.68153742e-02,\n",
       "       -6.19337671e-02, -1.85754709e-02, -8.29369426e-02,  7.91900605e-02,\n",
       "       -6.88663721e-02, -1.40300039e-02, -7.01309294e-02,  8.20812508e-02,\n",
       "       -1.01731718e-01, -5.03912494e-02,  4.40168008e-02, -3.94435339e-02,\n",
       "        5.42571358e-02, -4.53824885e-02, -2.48409696e-02, -4.09116410e-02,\n",
       "        4.42639999e-02, -1.03750350e-02, -1.35731706e-02, -2.51516212e-08,\n",
       "       -1.41127333e-02,  5.62118553e-02, -6.86918944e-02, -4.98768389e-02,\n",
       "        4.16784212e-02,  1.86123744e-01, -2.90279258e-02, -1.37537988e-02,\n",
       "        9.73853767e-02,  2.06507705e-02,  1.68510005e-02, -2.93781166e-03,\n",
       "        4.39982079e-02,  7.07672490e-03, -8.44864361e-03, -5.39405346e-02,\n",
       "       -4.72174771e-03, -8.08249339e-02,  5.61891980e-02,  3.06115462e-03,\n",
       "        8.66481918e-04, -6.84848130e-02,  2.46441104e-02,  3.11090332e-02,\n",
       "        8.28478113e-02, -3.25921848e-02, -2.04084124e-02,  9.01355669e-02,\n",
       "       -1.80734824e-02,  1.41662313e-02, -1.08265029e-02,  7.17427656e-02,\n",
       "       -8.13908130e-02, -6.27686754e-02,  1.00496776e-01, -8.16301676e-04,\n",
       "        3.11224516e-02, -1.28513917e-01,  8.66090064e-04, -9.85013880e-03,\n",
       "        9.24729556e-02,  5.72028607e-02, -1.45532272e-03,  2.98955515e-02,\n",
       "        8.80517736e-02,  1.84932426e-02,  9.52143520e-02, -1.65213831e-02,\n",
       "        3.15890997e-03, -1.05731087e-02,  1.64874960e-02,  7.45284036e-02,\n",
       "       -3.19266245e-02, -1.69666987e-02, -4.76999357e-02, -1.18000031e-01,\n",
       "       -7.92338178e-02, -2.52999682e-02,  3.85166658e-03, -3.99129726e-02,\n",
       "       -3.90946567e-02,  3.99591029e-02,  8.41027126e-02, -1.94645710e-02],\n",
       "      dtype=float32)"
      ]
     },
     "execution_count": 344,
     "metadata": {},
     "output_type": "execute_result"
    }
   ],
   "source": [
    "def centroid(specificity):\n",
    "    dot_prod = 0.0\n",
    "    while dot_prod < specificity:\n",
    "        random_vect = vects[np.random.choice(num_vectors)]\n",
    "        other_vect = vects[np.random.choice(num_vectors)]\n",
    "        dot_prod = np.dot(random_vect, other_vect)\n",
    "        \n",
    "    selected_centroid = random_vect + other_vect \n",
    "    selected_centroid /= np.linalg.norm(selected_centroid)\n",
    "    return selected_centroid\n",
    "\n",
    "centroid(0.25)"
   ]
  },
  {
   "cell_type": "markdown",
   "metadata": {
    "id": "fRY5vITzCOVC"
   },
   "source": [
    "## Put it together iteratively...\n",
    "\n",
    "Perform the above algorithm, looping over up to N term ordinals. We also build an `iverted_index` to track when vectors/docs go with each term, and a reverse map of terms to their vector centroid."
   ]
  },
  {
   "cell_type": "code",
   "execution_count": 345,
   "metadata": {
    "colab": {
     "base_uri": "https://localhost:8080/"
    },
    "id": "qTDJnGPxCNpi",
    "outputId": "a5cd71d1-15f8-4b49-a0c5-4c9c067347bb",
    "tags": []
   },
   "outputs": [
    {
     "name": "stdout",
     "output_type": "stream",
     "text": [
      "1 the 0.1 0.1 223865\n",
      "2 of 0.1 0.1 303905\n",
      "3 and 0.1 0.1 300439\n",
      "4 to 0.1 0.1 192477\n",
      "5 a 0.1 0.1 259124\n",
      "6 in 0.1 0.1 181504\n",
      "7 that 0.1 0.1 242527\n",
      "8 i 0.1 0.1 179901\n",
      "Q 8 i\n",
      "9 was 0.1 0.1 148124\n",
      "Q 22 at\n",
      "Q 33 she\n",
      "Q 43 de\n",
      "Q 45 who\n",
      "Q 52 them\n",
      "Q 56 more\n",
      "Q 58 and\n",
      "Q 62 into\n",
      "Q 69 our\n",
      "Q 81 la\n",
      "Q 83 little\n",
      "Q 84 then\n",
      "Q 87 can\n",
      "Q 88 made\n"
     ]
    }
   ],
   "source": [
    "psuedo_docs = {}      # vect_ids -> list of terms\n",
    "inverted_index = {}   # term -> vect_ids  \n",
    "similarities = {}     # term -> similarity (parallel to inverted index)\n",
    "term_vects = {}       # terms -> vect centroids\n",
    "\n",
    "# Run N times, more times, slower, but more accurate index\n",
    "num_terms_to_index = 100\n",
    "\n",
    "all_indexed_vectors = set()\n",
    "\n",
    "for term_ordinal in range(1,num_terms_to_index):\n",
    "    term = term_at(term_ordinal-1)\n",
    "\n",
    "    specificity = 0.1\n",
    "    center = centroid(specificity)\n",
    "\n",
    "    top_n = most_similar_at_specificity(center, specificity)\n",
    "\n",
    "    if (term_ordinal < 10) or (term_ordinal % 100 == 0):\n",
    "        print(term_ordinal, term, specificity, specificity, len(top_n))\n",
    "\n",
    "    for vector_ord in top_n:\n",
    "        term_vects[term] = center\n",
    "        try:\n",
    "            inverted_index[term].append(vector_ord)\n",
    "        except KeyError:\n",
    "            inverted_index[term] = [vector_ord]\n",
    "        # all_indexed_vectors.add(vector_ord[0])\n",
    "        if vector_ord[0] == 29817:\n",
    "            print('Q', term_ordinal, term)\n",
    "    # print(len(set(all_indexed_vectors)) / len(vects))\n"
   ]
  },
  {
   "cell_type": "markdown",
   "metadata": {
    "id": "17bXmeFQDvXV"
   },
   "source": [
    "## Query by projecting query vector into terms"
   ]
  },
  {
   "cell_type": "markdown",
   "metadata": {
    "id": "s4ehj76e3NkF"
   },
   "source": [
    "Ground truth cosine similarity to compare with..."
   ]
  },
  {
   "cell_type": "code",
   "execution_count": 346,
   "metadata": {
    "colab": {
     "base_uri": "https://localhost:8080/"
    },
    "id": "giOyrZq73M7p",
    "outputId": "7d24a51b-a2e4-4a88-dafa-932a97ad4282",
    "tags": []
   },
   "outputs": [
    {
     "name": "stdout",
     "output_type": "stream",
     "text": [
      "GT --  Although not an original character, he became a rather popular figure with fans from his debut in 1966 until the show's cancelation.\n",
      "\n",
      "(29871, 0.99999994) Although not an original character, he became a rather popular figure with fans from his debut in 1966 until the show's cancelation.\n",
      "\n",
      "(198209, 0.57462895) He is the only original actor still with the series.\n",
      "\n",
      "(178496, 0.56684923) He also made guest appearances on several television shows in the 1950s and 1960s.\n",
      "\n",
      "(212101, 0.5617415) He stayed with the show until its cancelation in 1998.\n",
      "\n",
      "(534493, 0.55154735) That was in August 1967 and he remained when the show ended in February 1982.\n",
      "\n",
      "(120091, 0.5450864) Despite being billed as a recurring character at first, he appeared in nearly every episode of the first season before the producers promoted him to a main character for the second and third seasons.\n",
      "\n",
      "(184906, 0.5376539) He first appeared on the show on October 29, 1965.\n",
      "\n",
      "(726870, 0.5355103) This alienated much of his audience and led to a decline in his popularity for the remainder of the 1960s.\n",
      "\n",
      "(212052, 0.53457195) He started to gain popularity in the 1980s.\n",
      "\n",
      "(212865, 0.53046334) He then became a stand-up comedian, actor and occasional television presenter.\n",
      "\n"
     ]
    }
   ],
   "source": [
    "all_normed = (np.linalg.norm(vects, axis=1) > 0.99) & (np.linalg.norm(vects, axis=1) < 1.01)\n",
    "assert all_normed.all(), \"Normalization of the vectors failed!\"\n",
    "\n",
    "# Ground truth\n",
    "def ground_truth_search(query_vector, n=10):\n",
    "    nn = np.dot(vects, query_vector)\n",
    "    n = min(n, len(nn) - 1)\n",
    "    top_n = np.argpartition(-nn, n)[:n]\n",
    "    top_n_scores = -np.partition(-nn, n)[:n]\n",
    "    scored = sorted(zip(top_n, top_n_scores),\n",
    "                    key=lambda scored: scored[1],\n",
    "                    reverse=True)\n",
    "    return scored\n",
    "\n",
    "query = 29871\n",
    "query_vector = vects[query]\n",
    "\n",
    "results = ground_truth_search(query_vector)\n",
    "\n",
    "print(\"GT -- \", sentences[query])\n",
    "for idx, result in enumerate(results):\n",
    "    print(result, sentences[result[0]])"
   ]
  },
  {
   "cell_type": "markdown",
   "metadata": {
    "id": "8JvhuK4z7w2L"
   },
   "source": [
    "## Candidate gathering and rescoring algorithm\n",
    "\n",
    "Our search by finding most similar term centroids and searching the inverted index for these. Collecting those candidates, and then res"
   ]
  },
  {
   "cell_type": "code",
   "execution_count": 310,
   "metadata": {
    "colab": {
     "base_uri": "https://localhost:8080/"
    },
    "id": "UsQPvA257wJE",
    "outputId": "051cc99b-6cef-49e2-8c52-55883666c0b3",
    "tags": []
   },
   "outputs": [
    {
     "name": "stdout",
     "output_type": "stream",
     "text": [
      "ZF --  Although not an original character, he became a rather popular figure with fans from his debut in 1966 until the show's cancelation.\n",
      "\n",
      "(29871, 0.99999994) Although not an original character, he became a rather popular figure with fans from his debut in 1966 until the show's cancelation.\n",
      "\n",
      "(198209, 0.57462895) He is the only original actor still with the series.\n",
      "\n",
      "(178496, 0.56684923) He also made guest appearances on several television shows in the 1950s and 1960s.\n",
      "\n",
      "(212101, 0.5617415) He stayed with the show until its cancelation in 1998.\n",
      "\n",
      "(534493, 0.55154735) That was in August 1967 and he remained when the show ended in February 1982.\n",
      "\n",
      "(120091, 0.5450864) Despite being billed as a recurring character at first, he appeared in nearly every episode of the first season before the producers promoted him to a main character for the second and third seasons.\n",
      "\n",
      "(184906, 0.5376539) He first appeared on the show on October 29, 1965.\n",
      "\n",
      "(726870, 0.5355103) This alienated much of his audience and led to a decline in his popularity for the remainder of the 1960s.\n",
      "\n",
      "(212052, 0.53457195) He started to gain popularity in the 1980s.\n",
      "\n",
      "(212865, 0.53046334) He then became a stand-up comedian, actor and occasional television presenter.\n",
      "\n"
     ]
    }
   ],
   "source": [
    "# terms -> vect centroids\n",
    "query_vect_items = list(term_vects.items())\n",
    "query_vects = np.array([vect_item[1] for vect_item in query_vect_items])\n",
    "\n",
    "def search_with_rerank(query_vector, n=10, rescore_window=10):\n",
    "\n",
    "    nn = np.dot(query_vects, query_vector)\n",
    "    top_n = np.argpartition(-nn, rescore_window)[:rescore_window]\n",
    "    top_n = top_n[nn[top_n].argsort()[::-1]]\n",
    "\n",
    "    # Most similar terms centroids in the document space\n",
    "    # to query the 'search engine'\n",
    "    candidates = set()\n",
    "    for ordinal in top_n:\n",
    "        term, vector = query_vect_items[ordinal]\n",
    "        for vect_id, similarity in inverted_index[term]:\n",
    "            candidates.add(vect_id)\n",
    "\n",
    "    # Select close vectors based on inverted index\n",
    "    candidates = list(candidates)\n",
    "    candidate_vectors = vects[candidates]\n",
    "\n",
    "    # Top N after retrieval\n",
    "    query_nn = np.dot(candidate_vectors, query_vector)\n",
    "    n = min(n, len(query_nn) - 1)\n",
    "    best_candidates = np.argpartition(-query_nn, n)[:n]\n",
    "    best_candidates_scores = -np.partition(-query_nn, n)[:n]\n",
    "    best_candidates = np.array(candidates)[best_candidates]\n",
    "\n",
    "    # Sort by score\n",
    "    return sorted(zip(best_candidates, best_candidates_scores),\n",
    "                  key=lambda scored: scored[1],\n",
    "                  reverse=True)\n",
    "  \n",
    "\n",
    "results = search_with_rerank(query_vector)\n",
    "\n",
    "print(\"ZF -- \", sentences[query])\n",
    "for idx, result in enumerate(results):\n",
    "    print(result, sentences[result[0]])\n"
   ]
  },
  {
   "cell_type": "markdown",
   "metadata": {
    "id": "5_at_OdeMTsc"
   },
   "source": [
    "## TF*IDF inspired algorithm"
   ]
  },
  {
   "cell_type": "code",
   "execution_count": 347,
   "metadata": {
    "colab": {
     "base_uri": "https://localhost:8080/"
    },
    "id": "ill7gxqbgrbB",
    "outputId": "e50932dd-1cee-4553-a290-90f8d7c247b5"
   },
   "outputs": [
    {
     "data": {
      "text/plain": [
       "(1.0, 13.883070118750423)"
      ]
     },
     "execution_count": 347,
     "metadata": {},
     "output_type": "execute_result"
    }
   ],
   "source": [
    "def idf(doc_freq, doc_count):\n",
    "    return np.log((doc_count+1)/(doc_freq+1)) + 1 # Use Lucenes classic DF scaling\n",
    "\n",
    "idf(len(vects), doc_count = len(vects)), idf(1, doc_count = len(vects))"
   ]
  },
  {
   "cell_type": "code",
   "execution_count": 348,
   "metadata": {
    "tags": []
   },
   "outputs": [
    {
     "data": {
      "text/plain": [
       "(29871,\n",
       " \"Although not an original character, he became a rather popular figure with fans from his debut in 1966 until the show's cancelation.\\n\")"
      ]
     },
     "execution_count": 348,
     "metadata": {},
     "output_type": "execute_result"
    }
   ],
   "source": [
    "query, sentences[query]"
   ]
  },
  {
   "cell_type": "markdown",
   "metadata": {},
   "source": [
    "## Similarity to reference points\n",
    "\n",
    "Our reference points `query_vects` map into the vector space. Which query_vects are we most similar to?"
   ]
  },
  {
   "cell_type": "code",
   "execution_count": 349,
   "metadata": {
    "tags": []
   },
   "outputs": [
    {
     "data": {
      "text/plain": [
       "(array([ 0.1181381 ,  0.18056665,  0.09441579,  0.10742912,  0.19940957,\n",
       "         0.12133355,  0.17179239,  0.12264241,  0.12632468,  0.11111461,\n",
       "         0.16183603,  0.19016096,  0.09695769,  0.16146591,  0.11941034,\n",
       "         0.18803968,  0.17454469,  0.11434996,  0.14607425,  0.12995967,\n",
       "         0.19324261,  0.12104875,  0.13988897,  0.17261192,  0.10372534,\n",
       "         0.10667131,  0.28301966,  0.10499115,  0.11538427,  0.18163617,\n",
       "         0.20561525,  0.30897802,  0.12290547,  0.17300566,  0.30205786,\n",
       "         0.18052557,  0.13788497,  0.09276967,  0.02019764,  0.00231358,\n",
       "         0.00204283,  0.08068399,  0.03703419, -0.04975268,  0.05720513,\n",
       "        -0.01885373,  0.05028267,  0.08380488, -0.01533856, -0.05444017,\n",
       "        -0.00376008,  0.01282778,  0.01558861, -0.02175457, -0.03881641,\n",
       "         0.00523229, -0.01133019, -0.09178244, -0.00852789,  0.071365  ,\n",
       "        -0.02877536,  0.00625076,  0.05417091, -0.04842758,  0.03926731,\n",
       "         0.01194479,  0.05880466,  0.07447648, -0.0277021 ,  0.0156517 ,\n",
       "        -0.06506275, -0.07246324, -0.08865501,  0.08792406,  0.04421379,\n",
       "        -0.0345394 ,  0.07769217, -0.00656226,  0.01051404,  0.09099313,\n",
       "         0.02607373,  0.06537681, -0.07301851,  0.01597841,  0.03663781,\n",
       "        -0.00563679,  0.0112494 , -0.09744395, -0.10086462, -0.10354756],\n",
       "       dtype=float32),\n",
       " array([37, 92,  2,  3, 90,  5, 84, 81, 76, 73, 10, 72, 12, 13, 14, 65, 63,\n",
       "        17, 56, 51, 20, 21, 22, 48, 24,  1, 26, 27, 43, 29, 30, 41, 40, 33,\n",
       "        34, 38, 36,  0, 87, 46, 32, 31, 42, 28, 44, 91, 25, 47, 23,  4, 50,\n",
       "        19, 52, 53, 54, 55, 18, 57, 58, 59, 60, 61, 62, 16, 64, 39, 66, 67,\n",
       "        68, 69, 89, 71, 11,  9, 88, 75,  8, 77, 78, 79, 80,  7, 82, 83,  6,\n",
       "        85, 86, 15, 49, 74]))"
      ]
     },
     "execution_count": 349,
     "metadata": {},
     "output_type": "execute_result"
    }
   ],
   "source": [
    "# Our vect -> terms similarity\n",
    "num_reference_points = 90\n",
    "nn = np.dot(query_vects, query_vector)\n",
    "\n",
    "top_n_ref_points = np.argpartition(-nn, num_reference_points)[:num_reference_points]\n",
    "scored = nn[top_n_ref_points]\n",
    "\n",
    "scored, top_n_ref_points"
   ]
  },
  {
   "cell_type": "markdown",
   "metadata": {},
   "source": [
    "## Using reference points, As, estimate q.v\n",
    "\n",
    "We have query vector `q`, which is similar to a set of reference points `A`, can we estimate `q.v`. We expect `q.v` to [approach `q.A*v.A` as we implement below](https://softwaredoug.com/blog/2023/03/02/shared-dot-product.html).\n",
    "\n",
    "When we share _multiple_ reference points, we append that for later consideration (probably to sum? consider the specificity/centrality of that reference point?)"
   ]
  },
  {
   "cell_type": "code",
   "execution_count": 350,
   "metadata": {
    "tags": []
   },
   "outputs": [
    {
     "name": "stdout",
     "output_type": "stream",
     "text": [
      "37 183144\n",
      "92 117981\n",
      "2 482272\n",
      "3 192477\n",
      "90 276398\n",
      "5 418593\n",
      "84 225265\n",
      "81 166393\n",
      "76 222387\n",
      "73 171438\n",
      "10 149273\n",
      "72 201029\n",
      "12 236565\n",
      "13 445984\n",
      "14 141074\n",
      "65 152218\n",
      "63 287905\n",
      "17 266464\n",
      "56 243182\n",
      "51 303069\n",
      "20 176710\n",
      "21 225242\n",
      "22 186824\n",
      "48 234100\n",
      "24 287124\n",
      "1 303905\n",
      "26 214002\n",
      "27 236134\n",
      "43 324985\n",
      "29 544091\n",
      "30 291381\n",
      "41 179245\n",
      "40 308928\n",
      "33 268890\n",
      "34 209849\n",
      "38 217742\n",
      "36 272526\n",
      "0 223865\n",
      "87 351431\n",
      "46 223534\n",
      "32 140675\n",
      "31 180802\n",
      "42 274735\n",
      "28 225097\n",
      "44 151735\n",
      "91 193707\n",
      "25 316584\n",
      "47 231918\n",
      "23 193316\n",
      "4 507156\n",
      "50 248378\n",
      "19 258225\n",
      "52 165466\n",
      "53 246448\n",
      "54 225618\n",
      "55 211833\n",
      "18 300938\n",
      "57 298435\n",
      "58 216320\n",
      "59 207750\n",
      "60 188533\n",
      "61 236009\n",
      "62 242312\n",
      "16 344385\n",
      "64 195533\n",
      "39 189799\n",
      "66 241842\n",
      "67 220312\n",
      "68 147675\n",
      "69 316373\n",
      "89 176261\n",
      "71 245660\n",
      "11 250247\n",
      "9 446530\n",
      "88 193477\n",
      "75 104267\n",
      "8 148124\n",
      "77 243948\n",
      "78 202009\n",
      "79 310087\n",
      "80 266561\n",
      "7 179901\n",
      "82 141421\n",
      "83 245593\n",
      "6 242527\n",
      "85 267635\n",
      "86 247638\n",
      "15 314952\n",
      "49 169218\n",
      "74 181788\n"
     ]
    }
   ],
   "source": [
    "candidates = {}\n",
    "cutoff = 0.0\n",
    "for ref_ordinal, ref_score in zip(top_n_ref_points, scored):\n",
    "    term, vector = query_vect_items[ref_ordinal]\n",
    "    print(ref_ordinal, len(inverted_index[term]))\n",
    "\n",
    "    for vect_id, score in inverted_index[term]:\n",
    "        # print(vect_id, score, score*ref_score)\n",
    "        combined = score * ref_score\n",
    "        if combined > cutoff:\n",
    "            try:\n",
    "                candidates[vect_id].append(combined)\n",
    "            except KeyError:\n",
    "                candidates[vect_id] = [combined]\n",
    "            \n",
    "# list(candidates.items())[:10]"
   ]
  },
  {
   "cell_type": "markdown",
   "metadata": {},
   "source": [
    "## Sum the shared candidates?\n",
    "\n",
    "Should we sum the shared reference points?\n",
    "\n",
    "Out of N reference points A0...AN we observe `u.A0...u.AN` and `v.0...vN`. We assume `u.v` would correlate to the dot product of these `u.A0*v.A0 + u.A1*v.A1 + ... + u.AN*v.AN`.\n",
    "\n",
    "BUT\n",
    "\n",
    "This turns out to not be a good idea, as many of these reference points repeat information, while others actually ADD information. So when we have many points that reflect the centrality of the dataset, this creates a bias towards more centrally located points. \n",
    "\n",
    "How to overcome this bias?"
   ]
  },
  {
   "cell_type": "code",
   "execution_count": 351,
   "metadata": {
    "tags": []
   },
   "outputs": [
    {
     "data": {
      "text/plain": [
       "[(271682, 0.34558686160016805),\n",
       " (532189, 0.5883268857141957),\n",
       " (169190, 0.482825476618018),\n",
       " (169272, 0.4917964227788616),\n",
       " (446463, 0.5404016223037615),\n",
       " (586103, 0.5412579866533633),\n",
       " (279087, 0.6883855010382831),\n",
       " (310651, 0.7604577610327397),\n",
       " (304792, 0.8396071847528219),\n",
       " (170146, 0.43363628519000486)]"
      ]
     },
     "execution_count": 351,
     "metadata": {},
     "output_type": "execute_result"
    }
   ],
   "source": [
    "summed_candidates = {}\n",
    "for vect_id, scored in candidates.items():\n",
    "    summed_candidates[vect_id] = sum(scored)\n",
    "    \n",
    "list(summed_candidates.items())[:10]"
   ]
  },
  {
   "cell_type": "code",
   "execution_count": 352,
   "metadata": {
    "tags": []
   },
   "outputs": [
    {
     "name": "stdout",
     "output_type": "stream",
     "text": [
      "ZF --  29871 Although not an original character, he became a rather popular figure with fans from his debut in 1966 until the show's cancelation.\n",
      "\n",
      "0 (193418, 1.4040102825965732) He is a winger who plays his rugby in New Zealand.\n",
      "\n",
      "218905 (29871, 0.48516126291360706) Although not an original character, he became a rather popular figure with fans from his debut in 1966 until the show's cancelation.\n",
      "\n"
     ]
    }
   ],
   "source": [
    "results = summed_candidates.items()\n",
    "results = sorted(results,\n",
    "                 key=lambda scored: scored[1],\n",
    "                 reverse=True)\n",
    "# 21340\n",
    "print(\"ZF -- \", query, sentences[query])\n",
    "rank = -1\n",
    "for idx, result in enumerate(results):\n",
    "    if result[0] == 29871 or idx == 0:\n",
    "        rank = idx\n",
    "        print(rank, result, sentences[result[0]])"
   ]
  },
  {
   "cell_type": "code",
   "execution_count": 332,
   "metadata": {
    "colab": {
     "base_uri": "https://localhost:8080/"
    },
    "id": "73IotyBtMS37",
    "outputId": "bf5662e1-3f38-4c2e-936c-6cf529cbef36",
    "tags": []
   },
   "outputs": [
    {
     "ename": "ValueError",
     "evalue": "kth(=100) out of bounds (93)",
     "output_type": "error",
     "traceback": [
      "\u001b[0;31m---------------------------------------------------------------------------\u001b[0m",
      "\u001b[0;31mValueError\u001b[0m                                Traceback (most recent call last)",
      "Cell \u001b[0;32mIn[332], line 61\u001b[0m\n\u001b[1;32m     39\u001b[0m     \u001b[38;5;28;01mreturn\u001b[39;00m \u001b[38;5;28msorted\u001b[39m(results,\n\u001b[1;32m     40\u001b[0m                 key\u001b[38;5;241m=\u001b[39m\u001b[38;5;28;01mlambda\u001b[39;00m scored: scored[\u001b[38;5;241m1\u001b[39m],\n\u001b[1;32m     41\u001b[0m                 reverse\u001b[38;5;241m=\u001b[39m\u001b[38;5;28;01mTrue\u001b[39;00m)[:n]\n\u001b[1;32m     42\u001b[0m   \u001b[38;5;66;03m# Those terms -> top docs similarity\u001b[39;00m\n\u001b[1;32m     43\u001b[0m \n\u001b[1;32m     44\u001b[0m   \u001b[38;5;66;03m# # Select close vectors based on inverted index\u001b[39;00m\n\u001b[0;32m   (...)\u001b[0m\n\u001b[1;32m     57\u001b[0m   \u001b[38;5;66;03m#               key=lambda scored: scored[1],\u001b[39;00m\n\u001b[1;32m     58\u001b[0m   \u001b[38;5;66;03m#               reverse=True)\u001b[39;00m\n\u001b[0;32m---> 61\u001b[0m results \u001b[38;5;241m=\u001b[39m \u001b[43msearch_no_rerank\u001b[49m\u001b[43m(\u001b[49m\u001b[43mquery_vector\u001b[49m\u001b[43m,\u001b[49m\u001b[43m \u001b[49m\u001b[43mn\u001b[49m\u001b[38;5;241;43m=\u001b[39;49m\u001b[38;5;241;43m100\u001b[39;49m\u001b[43m)\u001b[49m\n\u001b[1;32m     63\u001b[0m \u001b[38;5;28mprint\u001b[39m(\u001b[38;5;124m\"\u001b[39m\u001b[38;5;124mZF -- \u001b[39m\u001b[38;5;124m\"\u001b[39m, sentences[query])\n\u001b[1;32m     64\u001b[0m \u001b[38;5;28;01mfor\u001b[39;00m idx, result \u001b[38;5;129;01min\u001b[39;00m \u001b[38;5;28menumerate\u001b[39m(results):\n",
      "Cell \u001b[0;32mIn[332], line 10\u001b[0m, in \u001b[0;36msearch_no_rerank\u001b[0;34m(query_vector, n, num_search_terms)\u001b[0m\n\u001b[1;32m      6\u001b[0m \u001b[38;5;28;01mdef\u001b[39;00m \u001b[38;5;21msearch_no_rerank\u001b[39m(query_vector, n\u001b[38;5;241m=\u001b[39m\u001b[38;5;241m10\u001b[39m, num_search_terms\u001b[38;5;241m=\u001b[39m\u001b[38;5;241m100\u001b[39m):\n\u001b[1;32m      7\u001b[0m \n\u001b[1;32m      8\u001b[0m     \u001b[38;5;66;03m# Our vect -> terms similarity\u001b[39;00m\n\u001b[1;32m      9\u001b[0m     nn \u001b[38;5;241m=\u001b[39m np\u001b[38;5;241m.\u001b[39mdot(query_vects, query_vector)\n\u001b[0;32m---> 10\u001b[0m     top_n_terms \u001b[38;5;241m=\u001b[39m \u001b[43mnp\u001b[49m\u001b[38;5;241;43m.\u001b[39;49m\u001b[43margpartition\u001b[49m\u001b[43m(\u001b[49m\u001b[38;5;241;43m-\u001b[39;49m\u001b[43mnn\u001b[49m\u001b[43m,\u001b[49m\u001b[43m \u001b[49m\u001b[43mnum_search_terms\u001b[49m\u001b[43m)\u001b[49m[:num_search_terms]\n\u001b[1;32m     11\u001b[0m     scored \u001b[38;5;241m=\u001b[39m nn[top_n_terms]\n\u001b[1;32m     13\u001b[0m     \u001b[38;5;66;03m# log((docCount+1)/(docFreq+1)) + 1\u001b[39;00m\n",
      "File \u001b[0;32m<__array_function__ internals>:5\u001b[0m, in \u001b[0;36margpartition\u001b[0;34m(*args, **kwargs)\u001b[0m\n",
      "File \u001b[0;32m~/ws/notebooks/venv/lib/python3.10/site-packages/numpy/core/fromnumeric.py:839\u001b[0m, in \u001b[0;36margpartition\u001b[0;34m(a, kth, axis, kind, order)\u001b[0m\n\u001b[1;32m    763\u001b[0m \u001b[38;5;129m@array_function_dispatch\u001b[39m(_argpartition_dispatcher)\n\u001b[1;32m    764\u001b[0m \u001b[38;5;28;01mdef\u001b[39;00m \u001b[38;5;21margpartition\u001b[39m(a, kth, axis\u001b[38;5;241m=\u001b[39m\u001b[38;5;241m-\u001b[39m\u001b[38;5;241m1\u001b[39m, kind\u001b[38;5;241m=\u001b[39m\u001b[38;5;124m'\u001b[39m\u001b[38;5;124mintroselect\u001b[39m\u001b[38;5;124m'\u001b[39m, order\u001b[38;5;241m=\u001b[39m\u001b[38;5;28;01mNone\u001b[39;00m):\n\u001b[1;32m    765\u001b[0m \u001b[38;5;250m    \u001b[39m\u001b[38;5;124;03m\"\"\"\u001b[39;00m\n\u001b[1;32m    766\u001b[0m \u001b[38;5;124;03m    Perform an indirect partition along the given axis using the\u001b[39;00m\n\u001b[1;32m    767\u001b[0m \u001b[38;5;124;03m    algorithm specified by the `kind` keyword. It returns an array of\u001b[39;00m\n\u001b[0;32m   (...)\u001b[0m\n\u001b[1;32m    837\u001b[0m \n\u001b[1;32m    838\u001b[0m \u001b[38;5;124;03m    \"\"\"\u001b[39;00m\n\u001b[0;32m--> 839\u001b[0m     \u001b[38;5;28;01mreturn\u001b[39;00m \u001b[43m_wrapfunc\u001b[49m\u001b[43m(\u001b[49m\u001b[43ma\u001b[49m\u001b[43m,\u001b[49m\u001b[43m \u001b[49m\u001b[38;5;124;43m'\u001b[39;49m\u001b[38;5;124;43margpartition\u001b[39;49m\u001b[38;5;124;43m'\u001b[39;49m\u001b[43m,\u001b[49m\u001b[43m \u001b[49m\u001b[43mkth\u001b[49m\u001b[43m,\u001b[49m\u001b[43m \u001b[49m\u001b[43maxis\u001b[49m\u001b[38;5;241;43m=\u001b[39;49m\u001b[43maxis\u001b[49m\u001b[43m,\u001b[49m\u001b[43m \u001b[49m\u001b[43mkind\u001b[49m\u001b[38;5;241;43m=\u001b[39;49m\u001b[43mkind\u001b[49m\u001b[43m,\u001b[49m\u001b[43m \u001b[49m\u001b[43morder\u001b[49m\u001b[38;5;241;43m=\u001b[39;49m\u001b[43morder\u001b[49m\u001b[43m)\u001b[49m\n",
      "File \u001b[0;32m~/ws/notebooks/venv/lib/python3.10/site-packages/numpy/core/fromnumeric.py:57\u001b[0m, in \u001b[0;36m_wrapfunc\u001b[0;34m(obj, method, *args, **kwds)\u001b[0m\n\u001b[1;32m     54\u001b[0m     \u001b[38;5;28;01mreturn\u001b[39;00m _wrapit(obj, method, \u001b[38;5;241m*\u001b[39margs, \u001b[38;5;241m*\u001b[39m\u001b[38;5;241m*\u001b[39mkwds)\n\u001b[1;32m     56\u001b[0m \u001b[38;5;28;01mtry\u001b[39;00m:\n\u001b[0;32m---> 57\u001b[0m     \u001b[38;5;28;01mreturn\u001b[39;00m \u001b[43mbound\u001b[49m\u001b[43m(\u001b[49m\u001b[38;5;241;43m*\u001b[39;49m\u001b[43margs\u001b[49m\u001b[43m,\u001b[49m\u001b[43m \u001b[49m\u001b[38;5;241;43m*\u001b[39;49m\u001b[38;5;241;43m*\u001b[39;49m\u001b[43mkwds\u001b[49m\u001b[43m)\u001b[49m\n\u001b[1;32m     58\u001b[0m \u001b[38;5;28;01mexcept\u001b[39;00m \u001b[38;5;167;01mTypeError\u001b[39;00m:\n\u001b[1;32m     59\u001b[0m     \u001b[38;5;66;03m# A TypeError occurs if the object does have such a method in its\u001b[39;00m\n\u001b[1;32m     60\u001b[0m     \u001b[38;5;66;03m# class, but its signature is not identical to that of NumPy's. This\u001b[39;00m\n\u001b[0;32m   (...)\u001b[0m\n\u001b[1;32m     64\u001b[0m     \u001b[38;5;66;03m# Call _wrapit from within the except clause to ensure a potential\u001b[39;00m\n\u001b[1;32m     65\u001b[0m     \u001b[38;5;66;03m# exception has a traceback chain.\u001b[39;00m\n\u001b[1;32m     66\u001b[0m     \u001b[38;5;28;01mreturn\u001b[39;00m _wrapit(obj, method, \u001b[38;5;241m*\u001b[39margs, \u001b[38;5;241m*\u001b[39m\u001b[38;5;241m*\u001b[39mkwds)\n",
      "\u001b[0;31mValueError\u001b[0m: kth(=100) out of bounds (93)"
     ]
    }
   ],
   "source": [
    "# terms -> vect centroids\n",
    "from math import log\n",
    "query_vect_items = list(term_vects.items())\n",
    "query_vects = np.array([vect_item[1] for vect_item in query_vect_items])\n",
    "\n",
    "def search_no_rerank(query_vector, n=10, num_search_terms=100):\n",
    "\n",
    "    # Our vect -> terms similarity\n",
    "    nn = np.dot(query_vects, query_vector)\n",
    "    top_n_terms = np.argpartition(-nn, num_search_terms)[:num_search_terms]\n",
    "    scored = nn[top_n_terms]\n",
    "\n",
    "    # log((docCount+1)/(docFreq+1)) + 1\n",
    "    doc_count = len(vects)\n",
    "\n",
    "    # Most similar terms centroids in the document space\n",
    "    # to query the 'search engine'\n",
    "    candidates = {}\n",
    "    for ordinal, score in zip(top_n_terms, scored):\n",
    "        term, vector = query_vect_items[ordinal]\n",
    "        # print(ordinal, term, score)\n",
    "        doc_freq = len(inverted_index[term])\n",
    "        # print(score, doc_freq, idf)\n",
    "        for vect_id in inverted_index[term]:\n",
    "            if (vect_id == 5780 or vect_id == 31982):\n",
    "                print(vect_id, ordinal, idf, score, len(inverted_index[term]))\n",
    "            try:\n",
    "                candidates[vect_id].append(score)\n",
    "            except KeyError:\n",
    "                candidates[vect_id] = [score]\n",
    "\n",
    "    # Reduce score down\n",
    "    results = []\n",
    "    for vect_id, scores in candidates.items():\n",
    "        mean_score = np.mean(scores)\n",
    "        vect_id = vect_id[0]\n",
    "        results.append((vect_id, mean_score))\n",
    "\n",
    "    return sorted(results,\n",
    "                key=lambda scored: scored[1],\n",
    "                reverse=True)[:n]\n",
    "  # Those terms -> top docs similarity\n",
    "\n",
    "  # # Select close vectors based on inverted index\n",
    "  # candidates = list(candidates)\n",
    "  # candidate_vectors = vects[candidates]\n",
    "\n",
    "  # # Top N after retrieval\n",
    "  # query_nn = np.dot(candidate_vectors, query_vector)\n",
    "  # n = min(n, len(query_nn) - 1)\n",
    "  # best_candidates = np.argpartition(-query_nn, n)[:n]\n",
    "  # best_candidates_scores = -np.partition(-query_nn, n)[:n]\n",
    "  # best_candidates = np.array(candidates)[best_candidates]\n",
    "\n",
    "  # # Sort by score\n",
    "  # return sorted(zip(best_candidates, best_candidates_scores),\n",
    "  #               key=lambda scored: scored[1],\n",
    "  #               reverse=True)\n",
    "  \n",
    "\n",
    "results = search_no_rerank(query_vector, n=100)\n",
    "\n",
    "print(\"ZF -- \", sentences[query])\n",
    "for idx, result in enumerate(results):\n",
    "    print(result, sentences[result[0]])\n",
    "\n",
    "# (31980, 0.4344779) It is used to control and predict the behavior of such a system; see control theory.\n",
    "# (5780, 0.40779114) A telegraph code is one of the character encodings used to transmit information through telegraphy machines.\n",
    "# (30403, 0.39491743) It is formally named as Narrow-band visual telephone systems and terminal equipment.\n",
    "\n",
    "# (26070, 0.35521716) In Computer Science, a funnel is a synchronization primitive used in kernel development to protect system resources.\n",
    "\n",
    "# (70200, 0.34927842) The term is commonly applied to networks and servers.\n",
    "\n",
    "# (29210, 0.33600205) It has been described as having a \"deceptively simple melody\" line and \"haunting synthesizer music\".\n",
    "\n",
    "# (66009, 0.32706285) The P-SCH is a pure downlink physical channel broadcast over the entire cell.\n",
    "\n",
    "# (29972, 0.32221013) It is a simple, light and fast daemon.\n",
    "\n",
    "# (29510, 0.31987247) It is a binary form for representing simple data structures like arrays and associative arrays.\n",
    "\n",
    "# (5787, 0.31600854) A term commonly used by the United States Department of Defense, particularly for aircraft simulators.\n"
   ]
  },
  {
   "cell_type": "code",
   "execution_count": 387,
   "metadata": {
    "colab": {
     "base_uri": "https://localhost:8080/"
    },
    "id": "RTrN5SjHDxIG",
    "outputId": "f4929c7c-ce1a-4f69-b48b-cd009bc375e6"
   },
   "outputs": [
    {
     "name": "stdout",
     "output_type": "stream",
     "text": [
      "67440 0.9 0.9\n",
      "2708 0.3 0.6\n",
      "37471 0.5 0.5666666666666667\n",
      "78660 0.95 0.6625\n",
      "35512 1.0 0.73\n",
      "19021 1.0 0.775\n",
      "72355 0.75 0.7714285714285715\n",
      "61193 0.25 0.70625\n",
      "2936 1.0 0.7388888888888889\n",
      "49367 0.75 0.74\n",
      "17301 1.0 0.7636363636363637\n",
      "12290 1.0 0.7833333333333333\n",
      "57875 0.85 0.7884615384615384\n",
      "44287 0.95 0.7999999999999999\n",
      "53151 0.55 0.7833333333333333\n",
      "647 0.2 0.746875\n",
      "31644 0.55 0.7352941176470589\n",
      "32341 0.95 0.7472222222222222\n",
      "14171 1.0 0.7605263157894736\n",
      "57042 0.85 0.7649999999999999\n",
      "17417 1.0 0.7761904761904761\n",
      "45005 1.0 0.7863636363636363\n",
      "25173 0.9 0.7913043478260867\n",
      "37914 1.0 0.7999999999999998\n",
      "12745 1.0 0.8079999999999998\n",
      "23544 1.0 0.8153846153846153\n",
      "59399 1.0 0.8222222222222221\n",
      "50479 0.6 0.8142857142857142\n",
      "14253 0.35 0.7982758620689655\n",
      "44077 0.3 0.7816666666666666\n",
      "39530 0.4 0.7693548387096774\n",
      "5744 0.35 0.75625\n",
      "33306 0.95 0.7621212121212121\n",
      "2894 0.8 0.763235294117647\n",
      "72993 0.55 0.7571428571428571\n",
      "59629 0.85 0.7597222222222223\n",
      "49700 1.0 0.7662162162162163\n",
      "12960 0.35 0.755263157894737\n",
      "46285 0.95 0.7602564102564103\n",
      "71190 0.65 0.7575000000000001\n",
      "62207 0.4 0.748780487804878\n",
      "78634 1.0 0.7547619047619047\n",
      "36280 0.85 0.7569767441860464\n",
      "26838 0.55 0.7522727272727271\n",
      "3359 0.8 0.7533333333333332\n",
      "61669 0.25 0.7423913043478259\n",
      "6420 0.8 0.7436170212765955\n",
      "47388 0.35 0.7354166666666665\n",
      "36091 1.0 0.740816326530612\n",
      "31871 0.95 0.7449999999999999\n",
      "29292 1.0 0.7499999999999999\n",
      "62988 0.95 0.7538461538461537\n",
      "18143 1.0 0.7584905660377358\n",
      "66430 0.85 0.7601851851851852\n",
      "18559 1.0 0.7645454545454545\n",
      "10852 0.5 0.7598214285714285\n",
      "2181 0.7 0.7587719298245614\n",
      "11431 0.9 0.7612068965517241\n",
      "1012 0.45 0.7559322033898306\n",
      "32836 0.35 0.7491666666666668\n",
      "31915 0.9 0.7516393442622951\n",
      "9690 0.45 0.7467741935483871\n",
      "36996 0.65 0.7452380952380953\n",
      "67282 0.95 0.7484375000000001\n",
      "31206 0.75 0.7484615384615385\n",
      "259 0.85 0.7500000000000001\n",
      "22579 0.6 0.7477611940298509\n",
      "67429 0.9 0.7500000000000001\n",
      "25919 0.4 0.7449275362318841\n",
      "70538 0.95 0.747857142857143\n",
      "39567 0.4 0.7429577464788734\n",
      "48117 0.55 0.7402777777777778\n",
      "13126 1.0 0.7438356164383563\n",
      "26213 0.2 0.7364864864864866\n",
      "46686 0.65 0.7353333333333334\n",
      "52740 0.9 0.7375\n",
      "33548 0.45 0.7337662337662338\n",
      "44836 0.95 0.7365384615384617\n",
      "12241 0.4 0.7322784810126584\n",
      "2597 0.4 0.7281250000000001\n",
      "43789 0.7 0.7277777777777779\n",
      "13117 0.4 0.7237804878048781\n",
      "74171 0.3 0.7186746987951808\n",
      "44488 0.45 0.7154761904761906\n",
      "9813 0.3 0.7105882352941177\n",
      "75971 0.9 0.7127906976744186\n",
      "21026 1.0 0.7160919540229885\n",
      "31907 0.95 0.7187500000000001\n",
      "4218 0.35 0.7146067415730338\n",
      "24418 0.35 0.7105555555555557\n",
      "34075 0.7 0.7104395604395605\n",
      "19025 1.0 0.7135869565217392\n",
      "5880 0.4 0.710215053763441\n",
      "3166 1.0 0.7132978723404256\n",
      "12898 0.6 0.7121052631578948\n",
      "19541 1.0 0.7151041666666668\n",
      "53879 0.7 0.7149484536082475\n",
      "20430 0.95 0.7173469387755104\n",
      "71157 0.6 0.7161616161616162\n",
      "57731 0.85 0.7175\n"
     ]
    }
   ],
   "source": [
    "import random\n",
    "num_query_terms = 20   # number of query terms to generate for retrieval\n",
    "num_to_compare_at = 20 # Test recall at this depth\n",
    "\n",
    "query_vect_items = list(term_vects.items())\n",
    "query_vects = np.array([vect_item[1] for vect_item in query_vect_items])\n",
    "total_recall = 0.0\n",
    "\n",
    "# Run N query vectors and compute recall\n",
    "for i in range(0,100):\n",
    "\n",
    "    query_vect_idx = random.randint(0, num_vectors)\n",
    "\n",
    "    query_vector = vects[query_vect_idx]\n",
    "    scored_candidates = search(query_vector, n=20)\n",
    "    best_candidates = [cand[0] for cand in scored_candidates]\n",
    "\n",
    "    # Compare to direct cosine similarity\n",
    "    nn = np.dot(vects, query_vector)\n",
    "    top_n = np.argpartition(-nn, len(best_candidates))[:len(best_candidates)]\n",
    "    top_n = top_n[nn[top_n].argsort()[::-1]]\n",
    "\n",
    "    #print(set(top_n), set(best_candidates))\n",
    "\n",
    "    # Compute recall\n",
    "    recall = len(set(top_n) & set(best_candidates)) / len(best_candidates)\n",
    "    total_recall += recall\n",
    "    print(query_vect_idx, recall, total_recall / (i + 1))\n"
   ]
  },
  {
   "cell_type": "markdown",
   "metadata": {
    "id": "2MM6o9kCLju1"
   },
   "source": [
    "## Compare to brute-force cosine similarity"
   ]
  },
  {
   "cell_type": "code",
   "execution_count": null,
   "metadata": {
    "colab": {
     "base_uri": "https://localhost:8080/"
    },
    "id": "xBHn6MWcLi1S",
    "outputId": "f5592f95-4654-49f7-cfc5-90391758acd7"
   },
   "outputs": [
    {
     "data": {
      "text/plain": [
       "array([0.9999923 , 0.99997619, 0.99997019, 0.99995998, 0.99995748,\n",
       "       0.9999574 , 0.99995213, 0.99995107, 0.99993497, 0.99992942,\n",
       "       0.99991837, 0.99991157, 0.99990809, 0.99990155, 0.99990108,\n",
       "       0.99988527, 0.99988421, 0.99987828, 0.99987572, 0.99986871])"
      ]
     },
     "execution_count": 490,
     "metadata": {},
     "output_type": "execute_result"
    }
   ],
   "source": [
    "nn = np.dot(vectors, query_vector)\n",
    "top_n = np.argpartition(-nn, len(best_candidates))[:len(best_candidates)]\n",
    "top_n = top_n[nn[top_n].argsort()[::-1]]\n",
    "nn[top_n]"
   ]
  },
  {
   "cell_type": "code",
   "execution_count": null,
   "metadata": {
    "colab": {
     "base_uri": "https://localhost:8080/"
    },
    "id": "7ZI5l4ZbMIH5",
    "outputId": "c99190f9-748b-49bc-e3d3-879598001682"
   },
   "outputs": [
    {
     "data": {
      "text/plain": [
       "0.55"
      ]
     },
     "execution_count": 492,
     "metadata": {},
     "output_type": "execute_result"
    }
   ],
   "source": [
    "len(set(top_n) & set(best_candidates)) / len(best_candidates)"
   ]
  },
  {
   "cell_type": "code",
   "execution_count": null,
   "metadata": {
    "colab": {
     "base_uri": "https://localhost:8080/"
    },
    "id": "zMLXep3NNo3G",
    "outputId": "c155cc71-4114-46cb-8317-120625ef7e0d"
   },
   "outputs": [
    {
     "data": {
      "text/plain": [
       "{72,\n",
       " 192,\n",
       " 403,\n",
       " 523,\n",
       " 528,\n",
       " 566,\n",
       " 839,\n",
       " 958,\n",
       " 1734,\n",
       " 1931,\n",
       " 1938,\n",
       " 2116,\n",
       " 2155,\n",
       " 2166,\n",
       " 2217,\n",
       " 2493,\n",
       " 2577,\n",
       " 2704,\n",
       " 2983,\n",
       " 3021,\n",
       " 3031,\n",
       " 3134,\n",
       " 4310,\n",
       " 4441,\n",
       " 4766,\n",
       " 4934,\n",
       " 5385,\n",
       " 5575,\n",
       " 5588,\n",
       " 6026,\n",
       " 6106,\n",
       " 6144,\n",
       " 6838,\n",
       " 7594,\n",
       " 7659,\n",
       " 7775,\n",
       " 7934,\n",
       " 8138,\n",
       " 8543,\n",
       " 8680,\n",
       " 8686,\n",
       " 8989,\n",
       " 9011,\n",
       " 9144,\n",
       " 9230,\n",
       " 9472,\n",
       " 9662,\n",
       " 10247,\n",
       " 10841,\n",
       " 11231,\n",
       " 11672,\n",
       " 12089,\n",
       " 12159,\n",
       " 13263,\n",
       " 13267,\n",
       " 13484,\n",
       " 13720,\n",
       " 13881,\n",
       " 14120,\n",
       " 14548,\n",
       " 15263,\n",
       " 15536,\n",
       " 15817,\n",
       " 16163,\n",
       " 16449,\n",
       " 16617,\n",
       " 16867,\n",
       " 17334,\n",
       " 17587,\n",
       " 17934,\n",
       " 18332,\n",
       " 18368,\n",
       " 18504,\n",
       " 18533,\n",
       " 18580,\n",
       " 18638,\n",
       " 19023,\n",
       " 19067,\n",
       " 19334,\n",
       " 19410,\n",
       " 19669,\n",
       " 20067,\n",
       " 20594,\n",
       " 21130,\n",
       " 21405,\n",
       " 21486,\n",
       " 21810,\n",
       " 22284,\n",
       " 22377,\n",
       " 22472,\n",
       " 22494,\n",
       " 22529,\n",
       " 22531,\n",
       " 23179,\n",
       " 23341,\n",
       " 23476,\n",
       " 23548,\n",
       " 23703,\n",
       " 23884,\n",
       " 23894,\n",
       " 23964,\n",
       " 24152,\n",
       " 24185,\n",
       " 24601,\n",
       " 24676,\n",
       " 25955,\n",
       " 26009,\n",
       " 26234,\n",
       " 27215,\n",
       " 27618,\n",
       " 28129,\n",
       " 28189,\n",
       " 28525,\n",
       " 28569,\n",
       " 28942,\n",
       " 29226,\n",
       " 29270,\n",
       " 29497,\n",
       " 29570,\n",
       " 30270,\n",
       " 30414,\n",
       " 30539,\n",
       " 30665,\n",
       " 30699,\n",
       " 31038,\n",
       " 31435,\n",
       " 31525,\n",
       " 31989,\n",
       " 32636,\n",
       " 32781,\n",
       " 33826,\n",
       " 34040,\n",
       " 34234,\n",
       " 34249,\n",
       " 34314,\n",
       " 34423,\n",
       " 34762,\n",
       " 34908}"
      ]
     },
     "execution_count": 454,
     "metadata": {},
     "output_type": "execute_result"
    }
   ],
   "source": [
    "candidates"
   ]
  },
  {
   "cell_type": "markdown",
   "metadata": {
    "id": "8Y5YUr4aOMNB"
   },
   "source": [
    "## Paste in Elasticsearch URL\n",
    "\n",
    "* Go to [bonsai.io](http://bonsai.io) and create an account\n",
    "* Create a free Elasticsearch instance, wait for it to start\n",
    "* Go to Access->Credentials\n",
    "* Paste in the secure URL when prompted\n",
    "* NOTE - this is a free tier, clean up after usage to prevent overages (see the delete at the end of this notebook)"
   ]
  },
  {
   "cell_type": "code",
   "execution_count": null,
   "metadata": {
    "colab": {
     "base_uri": "https://localhost:8080/"
    },
    "id": "J-O82-xZN-7k",
    "outputId": "73dabc7d-142d-4e5a-9a39-327d85a77e37"
   },
   "outputs": [
    {
     "name": "stdout",
     "output_type": "stream",
     "text": [
      "Paste in your Elasticsearch URL··········\n"
     ]
    },
    {
     "data": {
      "text/plain": [
       "True"
      ]
     },
     "execution_count": 5,
     "metadata": {},
     "output_type": "execute_result"
    }
   ],
   "source": [
    "import getpass\n",
    "from elasticsearch import Elasticsearch\n",
    "\n",
    "es_url = getpass.getpass(\"Paste in your Elasticsearch URL\")\n",
    "\n",
    "es = Elasticsearch(es_url)\n",
    "es.ping()"
   ]
  },
  {
   "cell_type": "code",
   "execution_count": null,
   "metadata": {
    "colab": {
     "base_uri": "https://localhost:8080/"
    },
    "id": "v4BLtvAKOH3y",
    "outputId": "f8aa991f-ec33-42a6-9f1d-33a76c70d3ba"
   },
   "outputs": [
    {
     "data": {
      "text/plain": [
       "<Elasticsearch([{'host': 'training-test-3230915023.us-east-1.bonsaisearch.net', 'port': 443, 'use_ssl': True, 'http_auth': '75ud6jan9j:bfn6j3gvp4'}])>"
      ]
     },
     "execution_count": 6,
     "metadata": {},
     "output_type": "execute_result"
    }
   ],
   "source": []
  },
  {
   "cell_type": "code",
   "execution_count": null,
   "metadata": {
    "id": "cpdtDiarOv_A"
   },
   "outputs": [],
   "source": []
  }
 ],
 "metadata": {
  "colab": {
   "provenance": []
  },
  "kernelspec": {
   "display_name": "Python 3 (ipykernel)",
   "language": "python",
   "name": "python3"
  },
  "language_info": {
   "codemirror_mode": {
    "name": "ipython",
    "version": 3
   },
   "file_extension": ".py",
   "mimetype": "text/x-python",
   "name": "python",
   "nbconvert_exporter": "python",
   "pygments_lexer": "ipython3",
   "version": "3.10.9"
  }
 },
 "nbformat": 4,
 "nbformat_minor": 4
}
